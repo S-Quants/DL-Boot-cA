{
 "cells": [
  {
   "cell_type": "markdown",
   "metadata": {
    "slideshow": {
     "slide_type": "slide"
    }
   },
   "source": [
    "# <img src=\"./assets/course-icon.png\" style=\"height:50px;display:inline\"> EE 046211 - Technion - Deep Learning\n",
    "---\n",
    "\n",
    "#### Tal Daniel\n",
    "\n",
    "## Tutorial 03 - Optimization & Gradient Descent Algorithms"
   ]
  },
  {
   "cell_type": "markdown",
   "metadata": {
    "slideshow": {
     "slide_type": "subslide"
    }
   },
   "source": [
    "### <img src=\"https://img.icons8.com/bubbles/50/000000/checklist.png\" style=\"height:50px;display:inline\"> Agenda\n",
    "---\n",
    "\n",
    "* [Unimodal vs. Multimodal Optimization](#-Unimodal-vs.-Multimodal-Optimization)\n",
    "* [Convexity](#-Convexity)\n",
    "* [Optimality Conditions](#-Optimality-Conditions)\n",
    "* [(Batch) Gradient Descent](#(Batch)-Gradient-Descent)\n",
    "* [Stochastic Gradient Descentn (Mini Batch Gradient Descent)](#Stochastic-Gradient-Descent-(Mini-Batch-Gradient-Descent))\n",
    "* [GD Comparison Summary](#GD-Comparison-Summary)\n",
    "* [The Learning Rate](#-The-Learning-Rate)\n",
    "* [Example - (Multivariate) Linear Least Squares](#-Example---(Multivariate)-Linear-Least-Squares)\n",
    "* [Learning Rate Scheduling (Annealing)](#-Learning-Rate-Scheduling-(Annealing))\n",
    "    * [Learning Rate Scheduling in PyTorch](#-Learning-Rate-Scheduling-in-PyTorch)\n",
    "* [Momentum & Nesterov Momentum](#-Momentum-&-Nesterov-Momentum)\n",
    "    * [Momentum in PyTorch](#-Momentum-in-PyTorch)"
   ]
  },
  {
   "cell_type": "markdown",
   "metadata": {
    "slideshow": {
     "slide_type": "subslide"
    }
   },
   "source": [
    "* [Adaptive Learning Rate Methods](#-Adaptive-Learning-Rate-Methods)\n",
    "    * [Adagrad](#-Adagrad)\n",
    "        * [Adagrad in PyTorch](#-Adagrad-in-PyTorch)\n",
    "    * [RMSprop](#-RMSprop)\n",
    "        * [RMSprop in PyTorch](#-RMSprop-in-PyTorch)\n",
    "    * [Adam - Adaptive Moment Estimation](#-Adam---Adaptive-Moment-Estimation)\n",
    "        * [Adam in PyTorch](#-Adam-in-PyTorch)\n",
    "* [Comparison Between Methods](#-Comparison-Between-Methods)\n",
    "\n",
    "* [Recommended Videos](#-Recommended-Videos)\n",
    "* [Credits](#-Credits)"
   ]
  },
  {
   "cell_type": "code",
   "execution_count": 7,
   "metadata": {
    "slideshow": {
     "slide_type": "skip"
    }
   },
   "outputs": [],
   "source": [
    "# imports for the tutorial\n",
    "import numpy as np\n",
    "import pandas as pd\n",
    "import matplotlib.pyplot as plt\n",
    "from mpl_toolkits.mplot3d import Axes3D\n",
    "from sklearn.model_selection import train_test_split\n",
    "%matplotlib notebook\n",
    "# %matplotlib inline\n",
    "\n",
    "# pytorch imports\n",
    "import torch\n",
    "import torch.nn as nn\n",
    "import torchvision.transforms as transforms\n",
    "import torchvision.datasets as dsets"
   ]
  },
  {
   "cell_type": "markdown",
   "metadata": {
    "slideshow": {
     "slide_type": "subslide"
    }
   },
   "source": [
    "## <img src=\"https://img.icons8.com/cute-clipart/64/000000/minimum-value.png\" style=\"height:50px;display:inline\"> Unimodal vs. Multimodal Optimization\n",
    "---\n",
    "* **Unimodal** - only **one** optimum, that is, the *local* optimum is also global.\n",
    "<img src=\"./assets/unimodal.jpg\" style=\"height:200px\">"
   ]
  },
  {
   "cell_type": "markdown",
   "metadata": {
    "slideshow": {
     "slide_type": "subslide"
    }
   },
   "source": [
    "* **Multimodal** - more than one optimum\n",
    "<img src=\"./assets/multimodal.jpg\" style=\"height:200px\">\n",
    "\n",
    "Most search schemes are based on the assumption of **unimodal** surface. The optimum determined in such cases is called **local optimum design**.\n",
    "\n",
    "The **global optimum** is the best of all *local optimum* designs."
   ]
  },
  {
   "cell_type": "markdown",
   "metadata": {
    "slideshow": {
     "slide_type": "slide"
    }
   },
   "source": [
    "### <img src=\"https://img.icons8.com/office/80/000000/statistics.png\" style=\"height:50px;display:inline\"> Convexity\n",
    "---\n",
    "* **Definition**: $$\\forall x_1, x_2 \\in X, \\forall t \\in [0,1]: $$ $$ f(tx_1 + (1-t)x_2) \\leq tf(x_1) + (1-t)f(x_2) $$\n",
    "<img src=\"./assets/convex_1.jpg\" style=\"height:200px\">"
   ]
  },
  {
   "cell_type": "markdown",
   "metadata": {
    "slideshow": {
     "slide_type": "subslide"
    }
   },
   "source": [
    "<img src=\"./assets/convex_concave.gif\" style=\"height:200px\">\n",
    "<a href=\"http://mathworld.wolfram.com/Convex.html\">Image Source</a>"
   ]
  },
  {
   "cell_type": "markdown",
   "metadata": {
    "slideshow": {
     "slide_type": "subslide"
    }
   },
   "source": [
    "* Convex functions are **unimodal**\n",
    "<img src=\"./assets/convex_2.jpg\" style=\"height:200px\">"
   ]
  },
  {
   "cell_type": "markdown",
   "metadata": {
    "slideshow": {
     "slide_type": "slide"
    }
   },
   "source": [
    "## <img src=\"https://img.icons8.com/dusk/64/000000/copyleft.png\" style=\"height:50px;display:inline\"> Optimality Conditions\n",
    "---\n",
    "* If $f$ has *local* optimum at $x_0$ then $\\nabla f(x_0) = 0$\n",
    "* **The Hessian Matrix** : $H(f)(x)_{i,j} = \\frac{\\partial^2}{\\partial x_i \\partial x_j} f(x)$\n",
    "$$ H = \\begin{bmatrix} \\frac{\\partial^2 f}{\\partial x_1^2} & \\frac{\\partial^2 f}{\\partial x_1 \\partial x_2} & \\cdots & \\frac{\\partial^2 f}{\\partial x_1 \\partial x_n}  \\\\ \\frac{\\partial^2 f}{\\partial x_2 x_1} & \\frac{\\partial^2 f}{\\partial x_2^2} & \\cdots & \\frac{\\partial^2 f}{\\partial x_2 \\partial x_n}  \\\\ \\vdots  & \\vdots  & \\ddots & \\vdots  \\\\ \\frac{\\partial^2 f}{\\partial x_n x_1} & \\frac{\\partial^2 f}{\\partial x_n \\partial x_2} & \\cdots & \\frac{\\partial^2 f}{\\partial x_n^2}  \\end{bmatrix} $$"
   ]
  },
  {
   "cell_type": "markdown",
   "metadata": {
    "slideshow": {
     "slide_type": "subslide"
    }
   },
   "source": [
    "* If the **Hessian** matrix is:\n",
    "    * **Positive Definite** (all eigenvalues *positive*) at $x_0 \\rightarrow$ *local minimum*\n",
    "    * **Negative Definite** (all eigenvalues *negative*) at $x_0 \\rightarrow$ *local maximum*\n",
    "    * Both **positive and negative** eigenvalues at $x_0 \\rightarrow$ *saddle* point\n",
    "    * <img src=\"./assets/saddle.jpg\" style=\"height:100px\">\n",
    "* Note: the Hessian matrix is symmetric if the second partial derivatives are continuous, but this is not always true (<a href=\"https://en.wikipedia.org/wiki/Symmetry_of_second_derivatives\">Schwarz's theorem</a>)."
   ]
  },
  {
   "cell_type": "markdown",
   "metadata": {
    "slideshow": {
     "slide_type": "slide"
    }
   },
   "source": [
    "## <img src=\"https://img.icons8.com/dusk/64/000000/treasure-map.png\" style=\"height:50px;display:inline\">(Batch) Gradient Descent\n",
    "---\n",
    "* Generic optimization algorithm capable of finding optimal solutions to a wide range of problems.\n",
    "* The general idea is to tweak parameters **iteratively** to minimize a cost function.\n",
    "* It measures the local gradient of the error function with regards to the parameter vector ($\\theta$ or $w$), and it goes down in the direction of the descending gradient. Once the gradient is zero - the minimum is reached (=convergence)."
   ]
  },
  {
   "cell_type": "markdown",
   "metadata": {
    "slideshow": {
     "slide_type": "subslide"
    }
   },
   "source": [
    "* **Pseudocode**:\n",
    "    * **Require**: Learning rate $\\alpha_k$\n",
    "    * **Require**: Initial parameter vector $w$\n",
    "    * **While** stopping criterion not met **do**\n",
    "        * Compute gradient: $g \\leftarrow \\nabla f(x,w)$ \n",
    "        * Apply update: $w \\leftarrow w - \\alpha_k g$\n",
    "        * $k \\leftarrow k + 1$\n",
    "    * **end while**"
   ]
  },
  {
   "cell_type": "markdown",
   "metadata": {
    "slideshow": {
     "slide_type": "subslide"
    }
   },
   "source": [
    "<img src=\"./assets/minimum.jpg\" style=\"height:200px\">\n",
    "\n",
    "* **Convergene**: When the cost function is *convex* and its slope does not change abruptly, (Batch) GD with a (small enough) *fixed* learning rate will eventually converge to the optimal solution (but the time is depndent on the rate)."
   ]
  },
  {
   "cell_type": "markdown",
   "metadata": {
    "slideshow": {
     "slide_type": "slide"
    }
   },
   "source": [
    "### <img src=\"https://img.icons8.com/dusk/64/000000/waypoint-map.png\" style=\"height:50px;display:inline\">Stochastic Gradient Descent (Mini-Batch Gradient Descent)\n",
    "---\n",
    "* The main problem with (Batch) GD is that it uses the **whole** training set to compute the gradients. But what if that training set is huge? Computing the gradient can take a very long time.\n",
    "* *Stochastic* Gradient Descent on the other hand, samples just one instance randomly at every step and computes the gradients based on that single instance. This makes the algorithm much faster but due to its randomness, it is much less stable. Instead of steady decreasing untill reaching the minimum, the cost function will bounce up and down, **decreasing only on average**. With time, it will get *very close* to the minimum, but once it is there it will continue to bounce around!\n",
    "* The final parameters are good but **not optimal**."
   ]
  },
  {
   "cell_type": "markdown",
   "metadata": {
    "slideshow": {
     "slide_type": "subslide"
    }
   },
   "source": [
    "* When the cost function is very irregular, this bouncing can actually help the algorithm escape local minima, so SGD has better chance to find the *global* minimum.\n",
    "* How to find optimal parameters using SGD?\n",
    "    * **Reduce the learning rate gradually**: this is called *learning rate schedule*\n",
    "        * But don't reduce too quickly or you will get stuck at a local minimum or even frozen!\n",
    "* *Mini-Batch* Gradient Descent - same idea as SGD, but instead of one instance each step, $m$ samples.\n",
    "    * Get a little bit closer to the minimum than SGD but a little harder to escape local minima."
   ]
  },
  {
   "cell_type": "markdown",
   "metadata": {
    "slideshow": {
     "slide_type": "subslide"
    }
   },
   "source": [
    "* **Pseudocode**:\n",
    "    * **Require**: Learning rate $\\alpha_k$\n",
    "    * **Require**: Initial parameter $w$\n",
    "    * **While** stopping criterion not met **do**\n",
    "        * Sample a minibatch of $m$ examples from the training set ($m=1$ for SGD)\n",
    "        * Set $\\{x_1,...,x_m,\\}$ with corresponding targets $\\{y_1,...,y_m\\}$\n",
    "        * Compute gradient: $g \\leftarrow \\frac{1}{m} \\sum_{i=1}^m f'(x_i,w, y_i)$\n",
    "        * Apply update: $w \\leftarrow w - \\alpha_k g$\n",
    "        * $k \\leftarrow k + 1$\n",
    "    * **end while**"
   ]
  },
  {
   "cell_type": "markdown",
   "metadata": {
    "slideshow": {
     "slide_type": "subslide"
    }
   },
   "source": [
    "<img src=\"./assets/sgd.png\" style=\"height:250px\">\n",
    "\n",
    "<a href=\"https://towardsdatascience.com/gradient-descent-algorithm-and-its-variants-10f652806a3\">Image Source</a>"
   ]
  },
  {
   "cell_type": "markdown",
   "metadata": {
    "slideshow": {
     "slide_type": "slide"
    }
   },
   "source": [
    "#### GD Comparison Summary\n",
    "---\n",
    "\n",
    "| Method|Accuracy | Update Speed | Memory Usage |Online Learning |\n",
    "|---|---|---|---|---|\n",
    "| **Batch** Gradient Descent | Good | Slow |  High | No |\n",
    "| **Stochastic** Gradient Descent |  Good (with softening) | Fast |  Low |  Yes |\n",
    "| **Mini-Batch** Gradient Descent | Good | Medium | Medium | Yes (depends on the MB size) |\n",
    "\n",
    "\n",
    "* **\"Online\"** - samples arrive while the algorithm runs (that is, when the algorithm starts running, not all samples exist)\n",
    "* Note: All of the Gradient Descent algorithms require **scaling** if the feaures are not within the same range!\n"
   ]
  },
  {
   "cell_type": "markdown",
   "metadata": {
    "slideshow": {
     "slide_type": "subslide"
    }
   },
   "source": [
    "#### Challenges\n",
    "---\n",
    "* Choosing a **learning rate**\n",
    "    * Defining **learning schedule**\n",
    "* Working with features of different scales (e.g. heights (cm), weights (kg) and age (scalar))\n",
    "* Avoiding **local minima** (or *suboptimal* minima)"
   ]
  },
  {
   "cell_type": "markdown",
   "metadata": {
    "slideshow": {
     "slide_type": "subslide"
    }
   },
   "source": [
    "###  <img src=\"https://img.icons8.com/fluent/96/000000/sample-rate.png\" style=\"height:50px;display:inline\"> The Learning Rate\n",
    "---\n",
    "* **Learning Rate** hyperparameter - it is the size of step to be taken in each iteration.\n",
    "    * Too *small* $\\rightarrow$ the algorithm will have to go through many iterations to converge, which will take a long time\n",
    "    * Too *high* $\\rightarrow$ might make the algorithm diverge as it may miss the minimum\n",
    "    * <img src=\"./assets/lr.png\" style=\"height:250px\"> <a href=\"https://www.jeremyjordan.me/nn-learning-rate/\">Image Source</a>"
   ]
  },
  {
   "cell_type": "markdown",
   "metadata": {
    "slideshow": {
     "slide_type": "subslide"
    }
   },
   "source": [
    "### <img src=\"https://img.icons8.com/dusk/64/000000/classroom.png\" style=\"height:50px;display:inline\"> Example - (Multivariate) Linear Least Squares\n",
    "---\n",
    "* **Problem Formulation**\n",
    "    * $y \\in \\mathbb{R}^N$ - vector of values\n",
    "    * $X \\in \\mathbb{R}^{N \\times L}$ - data matrix with $N$ examples and *$L$ features*\n",
    "    * $w \\in \\mathbb{R}^L$ - the *parameters* to be learned, a **weight for each feature**\n",
    "* **Goal**: find $w$ that best fits the measurement y, that is, find a *weighted linear combination* of the feature vector to best fit the measurment $y$\n",
    "* Mathematiacally, the problem is:\n",
    "$$\\min_w f(w;x,y) = \\min_w \\sum_{i=1}^N||x_i w-y_i||^2 $$\n",
    "* In vector form:\n",
    "$$\\min_w f(w;x,y) = \\min_w ||Xw - Y||^2 $$"
   ]
  },
  {
   "cell_type": "markdown",
   "metadata": {
    "slideshow": {
     "slide_type": "subslide"
    }
   },
   "source": [
    "#### <img src=\"https://img.icons8.com/dusk/64/000000/idea.png\" style=\"height:30px;display:inline\">   (Multivariate) LLS - Analytical Solution\n",
    "---\n",
    "* Mathematically:\n",
    "$$\\min_w f(w;x,y) = \\min_w ||Xw - Y||^2 = \\min_w (Xw-Y)^T(Xw-Y)= \\min_w (w^TX^TXw -2w^TX^TY + Y^TY)$$\n",
    "* The derivative: \n",
    "$$\\nabla_w f(w;x,y) = (X^TX + X^TX)w -2X^TY = 0 \\rightarrow w=(X^TX)^{-1}X^TY $$ $$X^TX \\in \\mathbb{R}^{L \\times L} $$"
   ]
  },
  {
   "cell_type": "code",
   "execution_count": 2,
   "metadata": {
    "slideshow": {
     "slide_type": "subslide"
    }
   },
   "outputs": [
    {
     "data": {
      "text/html": [
       "<div>\n",
       "<style scoped>\n",
       "    .dataframe tbody tr th:only-of-type {\n",
       "        vertical-align: middle;\n",
       "    }\n",
       "\n",
       "    .dataframe tbody tr th {\n",
       "        vertical-align: top;\n",
       "    }\n",
       "\n",
       "    .dataframe thead th {\n",
       "        text-align: right;\n",
       "    }\n",
       "</style>\n",
       "<table border=\"1\" class=\"dataframe\">\n",
       "  <thead>\n",
       "    <tr style=\"text-align: right;\">\n",
       "      <th></th>\n",
       "      <th>id</th>\n",
       "      <th>diagnosis</th>\n",
       "      <th>radius_mean</th>\n",
       "      <th>texture_mean</th>\n",
       "      <th>perimeter_mean</th>\n",
       "      <th>area_mean</th>\n",
       "      <th>smoothness_mean</th>\n",
       "      <th>compactness_mean</th>\n",
       "      <th>concavity_mean</th>\n",
       "      <th>concave points_mean</th>\n",
       "      <th>...</th>\n",
       "      <th>texture_worst</th>\n",
       "      <th>perimeter_worst</th>\n",
       "      <th>area_worst</th>\n",
       "      <th>smoothness_worst</th>\n",
       "      <th>compactness_worst</th>\n",
       "      <th>concavity_worst</th>\n",
       "      <th>concave points_worst</th>\n",
       "      <th>symmetry_worst</th>\n",
       "      <th>fractal_dimension_worst</th>\n",
       "      <th>Unnamed: 32</th>\n",
       "    </tr>\n",
       "  </thead>\n",
       "  <tbody>\n",
       "    <tr>\n",
       "      <td>416</td>\n",
       "      <td>905978</td>\n",
       "      <td>B</td>\n",
       "      <td>9.405</td>\n",
       "      <td>21.70</td>\n",
       "      <td>59.60</td>\n",
       "      <td>271.2</td>\n",
       "      <td>0.10440</td>\n",
       "      <td>0.06159</td>\n",
       "      <td>0.020470</td>\n",
       "      <td>0.012570</td>\n",
       "      <td>...</td>\n",
       "      <td>31.24</td>\n",
       "      <td>68.73</td>\n",
       "      <td>359.4</td>\n",
       "      <td>0.15260</td>\n",
       "      <td>0.11930</td>\n",
       "      <td>0.06141</td>\n",
       "      <td>0.03770</td>\n",
       "      <td>0.2872</td>\n",
       "      <td>0.08304</td>\n",
       "      <td>NaN</td>\n",
       "    </tr>\n",
       "    <tr>\n",
       "      <td>315</td>\n",
       "      <td>894089</td>\n",
       "      <td>B</td>\n",
       "      <td>12.490</td>\n",
       "      <td>16.85</td>\n",
       "      <td>79.19</td>\n",
       "      <td>481.6</td>\n",
       "      <td>0.08511</td>\n",
       "      <td>0.03834</td>\n",
       "      <td>0.004473</td>\n",
       "      <td>0.006423</td>\n",
       "      <td>...</td>\n",
       "      <td>19.71</td>\n",
       "      <td>84.48</td>\n",
       "      <td>544.2</td>\n",
       "      <td>0.11040</td>\n",
       "      <td>0.04953</td>\n",
       "      <td>0.01938</td>\n",
       "      <td>0.02784</td>\n",
       "      <td>0.1917</td>\n",
       "      <td>0.06174</td>\n",
       "      <td>NaN</td>\n",
       "    </tr>\n",
       "    <tr>\n",
       "      <td>373</td>\n",
       "      <td>901288</td>\n",
       "      <td>M</td>\n",
       "      <td>20.640</td>\n",
       "      <td>17.35</td>\n",
       "      <td>134.80</td>\n",
       "      <td>1335.0</td>\n",
       "      <td>0.09446</td>\n",
       "      <td>0.10760</td>\n",
       "      <td>0.152700</td>\n",
       "      <td>0.089410</td>\n",
       "      <td>...</td>\n",
       "      <td>23.17</td>\n",
       "      <td>166.80</td>\n",
       "      <td>1946.0</td>\n",
       "      <td>0.15620</td>\n",
       "      <td>0.30550</td>\n",
       "      <td>0.41590</td>\n",
       "      <td>0.21120</td>\n",
       "      <td>0.2689</td>\n",
       "      <td>0.07055</td>\n",
       "      <td>NaN</td>\n",
       "    </tr>\n",
       "    <tr>\n",
       "      <td>115</td>\n",
       "      <td>864685</td>\n",
       "      <td>B</td>\n",
       "      <td>11.930</td>\n",
       "      <td>21.53</td>\n",
       "      <td>76.53</td>\n",
       "      <td>438.6</td>\n",
       "      <td>0.09768</td>\n",
       "      <td>0.07849</td>\n",
       "      <td>0.033280</td>\n",
       "      <td>0.020080</td>\n",
       "      <td>...</td>\n",
       "      <td>26.15</td>\n",
       "      <td>87.54</td>\n",
       "      <td>583.0</td>\n",
       "      <td>0.15000</td>\n",
       "      <td>0.23990</td>\n",
       "      <td>0.15030</td>\n",
       "      <td>0.07247</td>\n",
       "      <td>0.2438</td>\n",
       "      <td>0.08541</td>\n",
       "      <td>NaN</td>\n",
       "    </tr>\n",
       "    <tr>\n",
       "      <td>379</td>\n",
       "      <td>9013838</td>\n",
       "      <td>M</td>\n",
       "      <td>11.080</td>\n",
       "      <td>18.83</td>\n",
       "      <td>73.30</td>\n",
       "      <td>361.6</td>\n",
       "      <td>0.12160</td>\n",
       "      <td>0.21540</td>\n",
       "      <td>0.168900</td>\n",
       "      <td>0.063670</td>\n",
       "      <td>...</td>\n",
       "      <td>32.82</td>\n",
       "      <td>91.76</td>\n",
       "      <td>508.1</td>\n",
       "      <td>0.21840</td>\n",
       "      <td>0.93790</td>\n",
       "      <td>0.84020</td>\n",
       "      <td>0.25240</td>\n",
       "      <td>0.4154</td>\n",
       "      <td>0.14030</td>\n",
       "      <td>NaN</td>\n",
       "    </tr>\n",
       "    <tr>\n",
       "      <td>296</td>\n",
       "      <td>891936</td>\n",
       "      <td>B</td>\n",
       "      <td>10.910</td>\n",
       "      <td>12.35</td>\n",
       "      <td>69.14</td>\n",
       "      <td>363.7</td>\n",
       "      <td>0.08518</td>\n",
       "      <td>0.04721</td>\n",
       "      <td>0.012360</td>\n",
       "      <td>0.013690</td>\n",
       "      <td>...</td>\n",
       "      <td>14.82</td>\n",
       "      <td>72.42</td>\n",
       "      <td>392.2</td>\n",
       "      <td>0.09312</td>\n",
       "      <td>0.07506</td>\n",
       "      <td>0.02884</td>\n",
       "      <td>0.03194</td>\n",
       "      <td>0.2143</td>\n",
       "      <td>0.06643</td>\n",
       "      <td>NaN</td>\n",
       "    </tr>\n",
       "    <tr>\n",
       "      <td>172</td>\n",
       "      <td>87164</td>\n",
       "      <td>M</td>\n",
       "      <td>15.460</td>\n",
       "      <td>11.89</td>\n",
       "      <td>102.50</td>\n",
       "      <td>736.9</td>\n",
       "      <td>0.12570</td>\n",
       "      <td>0.15550</td>\n",
       "      <td>0.203200</td>\n",
       "      <td>0.109700</td>\n",
       "      <td>...</td>\n",
       "      <td>17.04</td>\n",
       "      <td>125.00</td>\n",
       "      <td>1102.0</td>\n",
       "      <td>0.15310</td>\n",
       "      <td>0.35830</td>\n",
       "      <td>0.58300</td>\n",
       "      <td>0.18270</td>\n",
       "      <td>0.3216</td>\n",
       "      <td>0.10100</td>\n",
       "      <td>NaN</td>\n",
       "    </tr>\n",
       "    <tr>\n",
       "      <td>117</td>\n",
       "      <td>864729</td>\n",
       "      <td>M</td>\n",
       "      <td>14.870</td>\n",
       "      <td>16.67</td>\n",
       "      <td>98.64</td>\n",
       "      <td>682.5</td>\n",
       "      <td>0.11620</td>\n",
       "      <td>0.16490</td>\n",
       "      <td>0.169000</td>\n",
       "      <td>0.089230</td>\n",
       "      <td>...</td>\n",
       "      <td>27.37</td>\n",
       "      <td>127.10</td>\n",
       "      <td>1095.0</td>\n",
       "      <td>0.18780</td>\n",
       "      <td>0.44800</td>\n",
       "      <td>0.47040</td>\n",
       "      <td>0.20270</td>\n",
       "      <td>0.3585</td>\n",
       "      <td>0.10650</td>\n",
       "      <td>NaN</td>\n",
       "    </tr>\n",
       "    <tr>\n",
       "      <td>321</td>\n",
       "      <td>894618</td>\n",
       "      <td>M</td>\n",
       "      <td>20.160</td>\n",
       "      <td>19.66</td>\n",
       "      <td>131.10</td>\n",
       "      <td>1274.0</td>\n",
       "      <td>0.08020</td>\n",
       "      <td>0.08564</td>\n",
       "      <td>0.115500</td>\n",
       "      <td>0.077260</td>\n",
       "      <td>...</td>\n",
       "      <td>23.03</td>\n",
       "      <td>150.20</td>\n",
       "      <td>1657.0</td>\n",
       "      <td>0.10540</td>\n",
       "      <td>0.15370</td>\n",
       "      <td>0.26060</td>\n",
       "      <td>0.14250</td>\n",
       "      <td>0.3055</td>\n",
       "      <td>0.05933</td>\n",
       "      <td>NaN</td>\n",
       "    </tr>\n",
       "    <tr>\n",
       "      <td>542</td>\n",
       "      <td>921644</td>\n",
       "      <td>B</td>\n",
       "      <td>14.740</td>\n",
       "      <td>25.42</td>\n",
       "      <td>94.70</td>\n",
       "      <td>668.6</td>\n",
       "      <td>0.08275</td>\n",
       "      <td>0.07214</td>\n",
       "      <td>0.041050</td>\n",
       "      <td>0.030270</td>\n",
       "      <td>...</td>\n",
       "      <td>32.29</td>\n",
       "      <td>107.40</td>\n",
       "      <td>826.4</td>\n",
       "      <td>0.10600</td>\n",
       "      <td>0.13760</td>\n",
       "      <td>0.16110</td>\n",
       "      <td>0.10950</td>\n",
       "      <td>0.2722</td>\n",
       "      <td>0.06956</td>\n",
       "      <td>NaN</td>\n",
       "    </tr>\n",
       "  </tbody>\n",
       "</table>\n",
       "<p>10 rows × 33 columns</p>\n",
       "</div>"
      ],
      "text/plain": [
       "          id diagnosis  radius_mean  texture_mean  perimeter_mean  area_mean  \\\n",
       "416   905978         B        9.405         21.70           59.60      271.2   \n",
       "315   894089         B       12.490         16.85           79.19      481.6   \n",
       "373   901288         M       20.640         17.35          134.80     1335.0   \n",
       "115   864685         B       11.930         21.53           76.53      438.6   \n",
       "379  9013838         M       11.080         18.83           73.30      361.6   \n",
       "296   891936         B       10.910         12.35           69.14      363.7   \n",
       "172    87164         M       15.460         11.89          102.50      736.9   \n",
       "117   864729         M       14.870         16.67           98.64      682.5   \n",
       "321   894618         M       20.160         19.66          131.10     1274.0   \n",
       "542   921644         B       14.740         25.42           94.70      668.6   \n",
       "\n",
       "     smoothness_mean  compactness_mean  concavity_mean  concave points_mean  \\\n",
       "416          0.10440           0.06159        0.020470             0.012570   \n",
       "315          0.08511           0.03834        0.004473             0.006423   \n",
       "373          0.09446           0.10760        0.152700             0.089410   \n",
       "115          0.09768           0.07849        0.033280             0.020080   \n",
       "379          0.12160           0.21540        0.168900             0.063670   \n",
       "296          0.08518           0.04721        0.012360             0.013690   \n",
       "172          0.12570           0.15550        0.203200             0.109700   \n",
       "117          0.11620           0.16490        0.169000             0.089230   \n",
       "321          0.08020           0.08564        0.115500             0.077260   \n",
       "542          0.08275           0.07214        0.041050             0.030270   \n",
       "\n",
       "     ...  texture_worst  perimeter_worst  area_worst  smoothness_worst  \\\n",
       "416  ...          31.24            68.73       359.4           0.15260   \n",
       "315  ...          19.71            84.48       544.2           0.11040   \n",
       "373  ...          23.17           166.80      1946.0           0.15620   \n",
       "115  ...          26.15            87.54       583.0           0.15000   \n",
       "379  ...          32.82            91.76       508.1           0.21840   \n",
       "296  ...          14.82            72.42       392.2           0.09312   \n",
       "172  ...          17.04           125.00      1102.0           0.15310   \n",
       "117  ...          27.37           127.10      1095.0           0.18780   \n",
       "321  ...          23.03           150.20      1657.0           0.10540   \n",
       "542  ...          32.29           107.40       826.4           0.10600   \n",
       "\n",
       "     compactness_worst  concavity_worst  concave points_worst  symmetry_worst  \\\n",
       "416            0.11930          0.06141               0.03770          0.2872   \n",
       "315            0.04953          0.01938               0.02784          0.1917   \n",
       "373            0.30550          0.41590               0.21120          0.2689   \n",
       "115            0.23990          0.15030               0.07247          0.2438   \n",
       "379            0.93790          0.84020               0.25240          0.4154   \n",
       "296            0.07506          0.02884               0.03194          0.2143   \n",
       "172            0.35830          0.58300               0.18270          0.3216   \n",
       "117            0.44800          0.47040               0.20270          0.3585   \n",
       "321            0.15370          0.26060               0.14250          0.3055   \n",
       "542            0.13760          0.16110               0.10950          0.2722   \n",
       "\n",
       "     fractal_dimension_worst  Unnamed: 32  \n",
       "416                  0.08304          NaN  \n",
       "315                  0.06174          NaN  \n",
       "373                  0.07055          NaN  \n",
       "115                  0.08541          NaN  \n",
       "379                  0.14030          NaN  \n",
       "296                  0.06643          NaN  \n",
       "172                  0.10100          NaN  \n",
       "117                  0.10650          NaN  \n",
       "321                  0.05933          NaN  \n",
       "542                  0.06956          NaN  \n",
       "\n",
       "[10 rows x 33 columns]"
      ]
     },
     "execution_count": 2,
     "metadata": {},
     "output_type": "execute_result"
    }
   ],
   "source": [
    "# let's load the cancer dataset\n",
    "dataset = pd.read_csv('./datasets/cancer_dataset.csv')\n",
    "# print the number of rows in the data set\n",
    "number_of_rows = len(dataset)\n",
    "# reminder, the data looks like this\n",
    "dataset.sample(10)"
   ]
  },
  {
   "cell_type": "code",
   "execution_count": 5,
   "metadata": {
    "slideshow": {
     "slide_type": "skip"
    }
   },
   "outputs": [],
   "source": [
    "def plot_3d_lls(x, y, z, lls_sol, title=\"\"):\n",
    "    # plot\n",
    "    %matplotlib notebook\n",
    "    fig = plt.figure(figsize=(5, 5))\n",
    "    ax = fig.add_subplot(111, projection='3d')\n",
    "    ax.scatter(x, y, z, label='Y')\n",
    "    ax.scatter(x, y, lls_sol, label='Xw')\n",
    "    ax.legend()\n",
    "    ax.set_xlabel('Radius Mean')\n",
    "    ax.set_ylabel('Area Mean')\n",
    "    ax.set_zlabel('Perimeter Mean')\n",
    "    ax.set_title(title)"
   ]
  },
  {
   "cell_type": "code",
   "execution_count": 8,
   "metadata": {
    "slideshow": {
     "slide_type": "skip"
    }
   },
   "outputs": [],
   "source": [
    "def batch_generator(x, y, batch_size, shuffle=True):\n",
    "    \"\"\"\n",
    "    This function generates batches for a given dataset x.\n",
    "    \"\"\"\n",
    "    N, L = x.shape\n",
    "    num_batches = N // batch_size\n",
    "    batch_x = []\n",
    "    batch_y = []\n",
    "    if shuffle:\n",
    "        # shuffle\n",
    "        rand_gen = np.random.RandomState(0)\n",
    "        shuffled_indices = rand_gen.permutation(np.arange(N))\n",
    "        x = x[shuffled_indices, :]\n",
    "        y = y[shuffled_indices, :]\n",
    "    for i in range(N):\n",
    "        batch_x.append(x[i, :])\n",
    "        batch_y.append(y[i, :])\n",
    "        if len(batch_x) == batch_size:\n",
    "            yield np.array(batch_x).reshape(batch_size, L), np.array(batch_y).reshape(batch_size, 1)\n",
    "            batch_x = []\n",
    "            batch_y = []\n",
    "    if batch_x:\n",
    "        yield np.array(batch_x).reshape(-1, L), np.array(batch_y).reshape(-1, 1)"
   ]
  },
  {
   "cell_type": "markdown",
   "metadata": {
    "slideshow": {
     "slide_type": "subslide"
    }
   },
   "source": [
    "* **Pseudocode** for Linear Regression:\n",
    "    * **Require**: Learning rate $\\alpha_k$\n",
    "    * **Require**: Initial parameter $w$\n",
    "    * **While** stopping criterion not met **do**\n",
    "        * Sample a minibatch of $m$ examples from the training set ($m=1$ for SGD)\n",
    "        * Set $\\tilde{X} = [x_1,...,x_m] $ with corresponding targets $\\tilde{Y} = [y_1,...,y_m]$\n",
    "        * Compute gradient: $g \\leftarrow 2\\tilde{X}^T\\tilde{X}w - 2\\tilde{X}^T \\tilde{Y}$\n",
    "        * Apply update: $w \\leftarrow w - \\alpha_k g$\n",
    "        * $k \\leftarrow k + 1$\n",
    "    * **end while**"
   ]
  },
  {
   "cell_type": "code",
   "execution_count": 9,
   "metadata": {
    "scrolled": false,
    "slideshow": {
     "slide_type": "subslide"
    }
   },
   "outputs": [
    {
     "name": "stdout",
     "output_type": "stream",
     "text": [
      "total batches: 56\n"
     ]
    }
   ],
   "source": [
    "# multivaraite mini-batch gradient descent\n",
    "X = dataset[['radius_mean', 'area_mean']].values\n",
    "Y = dataset[['perimeter_mean']].values\n",
    "# Scaling\n",
    "X = (X - X.mean(axis=0, keepdims=True)) / X.std(axis=0, keepdims=True)\n",
    "Y = (Y - Y.mean(axis=0, keepdims=True)) / Y.std(axis=0, keepdims=True)\n",
    "N = X.shape[0]\n",
    "batch_size = 10\n",
    "num_batches = N // batch_size\n",
    "print(\"total batches:\", num_batches)"
   ]
  },
  {
   "cell_type": "code",
   "execution_count": 10,
   "metadata": {
    "slideshow": {
     "slide_type": "subslide"
    }
   },
   "outputs": [
    {
     "name": "stdout",
     "output_type": "stream",
     "text": [
      "iter: 0 batch: 0  w = \n",
      "[[0.]\n",
      " [0.]]\n",
      "iter: 0 batch: 50  w = \n",
      "[[0.4391737 ]\n",
      " [0.41735388]]\n",
      "iter: 1 batch: 0  w = \n",
      "[[0.45621431]\n",
      " [0.43296123]]\n",
      "iter: 1 batch: 50  w = \n",
      "[[0.50458588]\n",
      " [0.46953377]]\n",
      "iter: 2 batch: 0  w = \n",
      "[[0.50659246]\n",
      " [0.46976394]]\n",
      "iter: 2 batch: 50  w = \n",
      "[[0.51664408]\n",
      " [0.46913792]]\n",
      "iter: 3 batch: 0  w = \n",
      "[[0.51715596]\n",
      " [0.46786206]]\n",
      "iter: 3 batch: 50  w = \n",
      "[[0.52339741]\n",
      " [0.46367398]]\n",
      "iter: 4 batch: 0  w = \n",
      "[[0.52374047]\n",
      " [0.4622501 ]]\n",
      "iter: 4 batch: 50  w = \n",
      "[[0.5295512 ]\n",
      " [0.45779193]]\n",
      "iter: 5 batch: 0  w = \n",
      "[[0.52985556]\n",
      " [0.456353  ]]\n",
      "iter: 5 batch: 50  w = \n",
      "[[0.53556725]\n",
      " [0.45194588]]\n",
      "iter: 6 batch: 0  w = \n",
      "[[0.53584598]\n",
      " [0.45050492]]\n",
      "iter: 6 batch: 50  w = \n",
      "[[0.54149192]\n",
      " [0.44617918]]\n",
      "iter: 7 batch: 0  w = \n",
      "[[0.54174661]\n",
      " [0.44473749]]\n",
      "iter: 7 batch: 50  w = \n",
      "[[0.54733087]\n",
      " [0.44049501]]\n",
      "iter: 8 batch: 0  w = \n",
      "[[0.54756198]\n",
      " [0.43905271]]\n",
      "iter: 8 batch: 50  w = \n",
      "[[0.55308576]\n",
      " [0.43489257]]\n",
      "iter: 9 batch: 0  w = \n",
      "[[0.55329364]\n",
      " [0.43344969]]\n",
      "iter: 9 batch: 50  w = \n",
      "[[0.55875783]\n",
      " [0.42937075]]\n"
     ]
    }
   ],
   "source": [
    "num_iterations = 10\n",
    "alpha_k = 0.001\n",
    "batch_gen = batch_generator(X, Y, batch_size, shuffle=True)\n",
    "# initialize w\n",
    "w = np.zeros((L, 1))\n",
    "for i in range(num_iterations):\n",
    "    for batch_i, batch in enumerate(batch_gen):\n",
    "        batch_x, batch_y = batch\n",
    "        if batch_i % 50 == 0:\n",
    "            print(\"iter:\", i, \"batch:\", batch_i, \" w = \")\n",
    "            print(w)\n",
    "        gradient = 2 * batch_x.T @ batch_x @ w - 2 * batch_x.T @ batch_y\n",
    "        w = w - alpha_k * gradient\n",
    "    batch_gen = batch_generator(X, Y, batch_size, shuffle=True)\n",
    "\n",
    "lls_sol = X @ w"
   ]
  },
  {
   "cell_type": "code",
   "execution_count": 11,
   "metadata": {
    "scrolled": false,
    "slideshow": {
     "slide_type": "subslide"
    }
   },
   "outputs": [
    {
     "data": {
      "application/javascript": [
       "/* Put everything inside the global mpl namespace */\n",
       "window.mpl = {};\n",
       "\n",
       "\n",
       "mpl.get_websocket_type = function() {\n",
       "    if (typeof(WebSocket) !== 'undefined') {\n",
       "        return WebSocket;\n",
       "    } else if (typeof(MozWebSocket) !== 'undefined') {\n",
       "        return MozWebSocket;\n",
       "    } else {\n",
       "        alert('Your browser does not have WebSocket support. ' +\n",
       "              'Please try Chrome, Safari or Firefox ≥ 6. ' +\n",
       "              'Firefox 4 and 5 are also supported but you ' +\n",
       "              'have to enable WebSockets in about:config.');\n",
       "    };\n",
       "}\n",
       "\n",
       "mpl.figure = function(figure_id, websocket, ondownload, parent_element) {\n",
       "    this.id = figure_id;\n",
       "\n",
       "    this.ws = websocket;\n",
       "\n",
       "    this.supports_binary = (this.ws.binaryType != undefined);\n",
       "\n",
       "    if (!this.supports_binary) {\n",
       "        var warnings = document.getElementById(\"mpl-warnings\");\n",
       "        if (warnings) {\n",
       "            warnings.style.display = 'block';\n",
       "            warnings.textContent = (\n",
       "                \"This browser does not support binary websocket messages. \" +\n",
       "                    \"Performance may be slow.\");\n",
       "        }\n",
       "    }\n",
       "\n",
       "    this.imageObj = new Image();\n",
       "\n",
       "    this.context = undefined;\n",
       "    this.message = undefined;\n",
       "    this.canvas = undefined;\n",
       "    this.rubberband_canvas = undefined;\n",
       "    this.rubberband_context = undefined;\n",
       "    this.format_dropdown = undefined;\n",
       "\n",
       "    this.image_mode = 'full';\n",
       "\n",
       "    this.root = $('<div/>');\n",
       "    this._root_extra_style(this.root)\n",
       "    this.root.attr('style', 'display: inline-block');\n",
       "\n",
       "    $(parent_element).append(this.root);\n",
       "\n",
       "    this._init_header(this);\n",
       "    this._init_canvas(this);\n",
       "    this._init_toolbar(this);\n",
       "\n",
       "    var fig = this;\n",
       "\n",
       "    this.waiting = false;\n",
       "\n",
       "    this.ws.onopen =  function () {\n",
       "            fig.send_message(\"supports_binary\", {value: fig.supports_binary});\n",
       "            fig.send_message(\"send_image_mode\", {});\n",
       "            if (mpl.ratio != 1) {\n",
       "                fig.send_message(\"set_dpi_ratio\", {'dpi_ratio': mpl.ratio});\n",
       "            }\n",
       "            fig.send_message(\"refresh\", {});\n",
       "        }\n",
       "\n",
       "    this.imageObj.onload = function() {\n",
       "            if (fig.image_mode == 'full') {\n",
       "                // Full images could contain transparency (where diff images\n",
       "                // almost always do), so we need to clear the canvas so that\n",
       "                // there is no ghosting.\n",
       "                fig.context.clearRect(0, 0, fig.canvas.width, fig.canvas.height);\n",
       "            }\n",
       "            fig.context.drawImage(fig.imageObj, 0, 0);\n",
       "        };\n",
       "\n",
       "    this.imageObj.onunload = function() {\n",
       "        fig.ws.close();\n",
       "    }\n",
       "\n",
       "    this.ws.onmessage = this._make_on_message_function(this);\n",
       "\n",
       "    this.ondownload = ondownload;\n",
       "}\n",
       "\n",
       "mpl.figure.prototype._init_header = function() {\n",
       "    var titlebar = $(\n",
       "        '<div class=\"ui-dialog-titlebar ui-widget-header ui-corner-all ' +\n",
       "        'ui-helper-clearfix\"/>');\n",
       "    var titletext = $(\n",
       "        '<div class=\"ui-dialog-title\" style=\"width: 100%; ' +\n",
       "        'text-align: center; padding: 3px;\"/>');\n",
       "    titlebar.append(titletext)\n",
       "    this.root.append(titlebar);\n",
       "    this.header = titletext[0];\n",
       "}\n",
       "\n",
       "\n",
       "\n",
       "mpl.figure.prototype._canvas_extra_style = function(canvas_div) {\n",
       "\n",
       "}\n",
       "\n",
       "\n",
       "mpl.figure.prototype._root_extra_style = function(canvas_div) {\n",
       "\n",
       "}\n",
       "\n",
       "mpl.figure.prototype._init_canvas = function() {\n",
       "    var fig = this;\n",
       "\n",
       "    var canvas_div = $('<div/>');\n",
       "\n",
       "    canvas_div.attr('style', 'position: relative; clear: both; outline: 0');\n",
       "\n",
       "    function canvas_keyboard_event(event) {\n",
       "        return fig.key_event(event, event['data']);\n",
       "    }\n",
       "\n",
       "    canvas_div.keydown('key_press', canvas_keyboard_event);\n",
       "    canvas_div.keyup('key_release', canvas_keyboard_event);\n",
       "    this.canvas_div = canvas_div\n",
       "    this._canvas_extra_style(canvas_div)\n",
       "    this.root.append(canvas_div);\n",
       "\n",
       "    var canvas = $('<canvas/>');\n",
       "    canvas.addClass('mpl-canvas');\n",
       "    canvas.attr('style', \"left: 0; top: 0; z-index: 0; outline: 0\")\n",
       "\n",
       "    this.canvas = canvas[0];\n",
       "    this.context = canvas[0].getContext(\"2d\");\n",
       "\n",
       "    var backingStore = this.context.backingStorePixelRatio ||\n",
       "\tthis.context.webkitBackingStorePixelRatio ||\n",
       "\tthis.context.mozBackingStorePixelRatio ||\n",
       "\tthis.context.msBackingStorePixelRatio ||\n",
       "\tthis.context.oBackingStorePixelRatio ||\n",
       "\tthis.context.backingStorePixelRatio || 1;\n",
       "\n",
       "    mpl.ratio = (window.devicePixelRatio || 1) / backingStore;\n",
       "\n",
       "    var rubberband = $('<canvas/>');\n",
       "    rubberband.attr('style', \"position: absolute; left: 0; top: 0; z-index: 1;\")\n",
       "\n",
       "    var pass_mouse_events = true;\n",
       "\n",
       "    canvas_div.resizable({\n",
       "        start: function(event, ui) {\n",
       "            pass_mouse_events = false;\n",
       "        },\n",
       "        resize: function(event, ui) {\n",
       "            fig.request_resize(ui.size.width, ui.size.height);\n",
       "        },\n",
       "        stop: function(event, ui) {\n",
       "            pass_mouse_events = true;\n",
       "            fig.request_resize(ui.size.width, ui.size.height);\n",
       "        },\n",
       "    });\n",
       "\n",
       "    function mouse_event_fn(event) {\n",
       "        if (pass_mouse_events)\n",
       "            return fig.mouse_event(event, event['data']);\n",
       "    }\n",
       "\n",
       "    rubberband.mousedown('button_press', mouse_event_fn);\n",
       "    rubberband.mouseup('button_release', mouse_event_fn);\n",
       "    // Throttle sequential mouse events to 1 every 20ms.\n",
       "    rubberband.mousemove('motion_notify', mouse_event_fn);\n",
       "\n",
       "    rubberband.mouseenter('figure_enter', mouse_event_fn);\n",
       "    rubberband.mouseleave('figure_leave', mouse_event_fn);\n",
       "\n",
       "    canvas_div.on(\"wheel\", function (event) {\n",
       "        event = event.originalEvent;\n",
       "        event['data'] = 'scroll'\n",
       "        if (event.deltaY < 0) {\n",
       "            event.step = 1;\n",
       "        } else {\n",
       "            event.step = -1;\n",
       "        }\n",
       "        mouse_event_fn(event);\n",
       "    });\n",
       "\n",
       "    canvas_div.append(canvas);\n",
       "    canvas_div.append(rubberband);\n",
       "\n",
       "    this.rubberband = rubberband;\n",
       "    this.rubberband_canvas = rubberband[0];\n",
       "    this.rubberband_context = rubberband[0].getContext(\"2d\");\n",
       "    this.rubberband_context.strokeStyle = \"#000000\";\n",
       "\n",
       "    this._resize_canvas = function(width, height) {\n",
       "        // Keep the size of the canvas, canvas container, and rubber band\n",
       "        // canvas in synch.\n",
       "        canvas_div.css('width', width)\n",
       "        canvas_div.css('height', height)\n",
       "\n",
       "        canvas.attr('width', width * mpl.ratio);\n",
       "        canvas.attr('height', height * mpl.ratio);\n",
       "        canvas.attr('style', 'width: ' + width + 'px; height: ' + height + 'px;');\n",
       "\n",
       "        rubberband.attr('width', width);\n",
       "        rubberband.attr('height', height);\n",
       "    }\n",
       "\n",
       "    // Set the figure to an initial 600x600px, this will subsequently be updated\n",
       "    // upon first draw.\n",
       "    this._resize_canvas(600, 600);\n",
       "\n",
       "    // Disable right mouse context menu.\n",
       "    $(this.rubberband_canvas).bind(\"contextmenu\",function(e){\n",
       "        return false;\n",
       "    });\n",
       "\n",
       "    function set_focus () {\n",
       "        canvas.focus();\n",
       "        canvas_div.focus();\n",
       "    }\n",
       "\n",
       "    window.setTimeout(set_focus, 100);\n",
       "}\n",
       "\n",
       "mpl.figure.prototype._init_toolbar = function() {\n",
       "    var fig = this;\n",
       "\n",
       "    var nav_element = $('<div/>');\n",
       "    nav_element.attr('style', 'width: 100%');\n",
       "    this.root.append(nav_element);\n",
       "\n",
       "    // Define a callback function for later on.\n",
       "    function toolbar_event(event) {\n",
       "        return fig.toolbar_button_onclick(event['data']);\n",
       "    }\n",
       "    function toolbar_mouse_event(event) {\n",
       "        return fig.toolbar_button_onmouseover(event['data']);\n",
       "    }\n",
       "\n",
       "    for(var toolbar_ind in mpl.toolbar_items) {\n",
       "        var name = mpl.toolbar_items[toolbar_ind][0];\n",
       "        var tooltip = mpl.toolbar_items[toolbar_ind][1];\n",
       "        var image = mpl.toolbar_items[toolbar_ind][2];\n",
       "        var method_name = mpl.toolbar_items[toolbar_ind][3];\n",
       "\n",
       "        if (!name) {\n",
       "            // put a spacer in here.\n",
       "            continue;\n",
       "        }\n",
       "        var button = $('<button/>');\n",
       "        button.addClass('ui-button ui-widget ui-state-default ui-corner-all ' +\n",
       "                        'ui-button-icon-only');\n",
       "        button.attr('role', 'button');\n",
       "        button.attr('aria-disabled', 'false');\n",
       "        button.click(method_name, toolbar_event);\n",
       "        button.mouseover(tooltip, toolbar_mouse_event);\n",
       "\n",
       "        var icon_img = $('<span/>');\n",
       "        icon_img.addClass('ui-button-icon-primary ui-icon');\n",
       "        icon_img.addClass(image);\n",
       "        icon_img.addClass('ui-corner-all');\n",
       "\n",
       "        var tooltip_span = $('<span/>');\n",
       "        tooltip_span.addClass('ui-button-text');\n",
       "        tooltip_span.html(tooltip);\n",
       "\n",
       "        button.append(icon_img);\n",
       "        button.append(tooltip_span);\n",
       "\n",
       "        nav_element.append(button);\n",
       "    }\n",
       "\n",
       "    var fmt_picker_span = $('<span/>');\n",
       "\n",
       "    var fmt_picker = $('<select/>');\n",
       "    fmt_picker.addClass('mpl-toolbar-option ui-widget ui-widget-content');\n",
       "    fmt_picker_span.append(fmt_picker);\n",
       "    nav_element.append(fmt_picker_span);\n",
       "    this.format_dropdown = fmt_picker[0];\n",
       "\n",
       "    for (var ind in mpl.extensions) {\n",
       "        var fmt = mpl.extensions[ind];\n",
       "        var option = $(\n",
       "            '<option/>', {selected: fmt === mpl.default_extension}).html(fmt);\n",
       "        fmt_picker.append(option);\n",
       "    }\n",
       "\n",
       "    // Add hover states to the ui-buttons\n",
       "    $( \".ui-button\" ).hover(\n",
       "        function() { $(this).addClass(\"ui-state-hover\");},\n",
       "        function() { $(this).removeClass(\"ui-state-hover\");}\n",
       "    );\n",
       "\n",
       "    var status_bar = $('<span class=\"mpl-message\"/>');\n",
       "    nav_element.append(status_bar);\n",
       "    this.message = status_bar[0];\n",
       "}\n",
       "\n",
       "mpl.figure.prototype.request_resize = function(x_pixels, y_pixels) {\n",
       "    // Request matplotlib to resize the figure. Matplotlib will then trigger a resize in the client,\n",
       "    // which will in turn request a refresh of the image.\n",
       "    this.send_message('resize', {'width': x_pixels, 'height': y_pixels});\n",
       "}\n",
       "\n",
       "mpl.figure.prototype.send_message = function(type, properties) {\n",
       "    properties['type'] = type;\n",
       "    properties['figure_id'] = this.id;\n",
       "    this.ws.send(JSON.stringify(properties));\n",
       "}\n",
       "\n",
       "mpl.figure.prototype.send_draw_message = function() {\n",
       "    if (!this.waiting) {\n",
       "        this.waiting = true;\n",
       "        this.ws.send(JSON.stringify({type: \"draw\", figure_id: this.id}));\n",
       "    }\n",
       "}\n",
       "\n",
       "\n",
       "mpl.figure.prototype.handle_save = function(fig, msg) {\n",
       "    var format_dropdown = fig.format_dropdown;\n",
       "    var format = format_dropdown.options[format_dropdown.selectedIndex].value;\n",
       "    fig.ondownload(fig, format);\n",
       "}\n",
       "\n",
       "\n",
       "mpl.figure.prototype.handle_resize = function(fig, msg) {\n",
       "    var size = msg['size'];\n",
       "    if (size[0] != fig.canvas.width || size[1] != fig.canvas.height) {\n",
       "        fig._resize_canvas(size[0], size[1]);\n",
       "        fig.send_message(\"refresh\", {});\n",
       "    };\n",
       "}\n",
       "\n",
       "mpl.figure.prototype.handle_rubberband = function(fig, msg) {\n",
       "    var x0 = msg['x0'] / mpl.ratio;\n",
       "    var y0 = (fig.canvas.height - msg['y0']) / mpl.ratio;\n",
       "    var x1 = msg['x1'] / mpl.ratio;\n",
       "    var y1 = (fig.canvas.height - msg['y1']) / mpl.ratio;\n",
       "    x0 = Math.floor(x0) + 0.5;\n",
       "    y0 = Math.floor(y0) + 0.5;\n",
       "    x1 = Math.floor(x1) + 0.5;\n",
       "    y1 = Math.floor(y1) + 0.5;\n",
       "    var min_x = Math.min(x0, x1);\n",
       "    var min_y = Math.min(y0, y1);\n",
       "    var width = Math.abs(x1 - x0);\n",
       "    var height = Math.abs(y1 - y0);\n",
       "\n",
       "    fig.rubberband_context.clearRect(\n",
       "        0, 0, fig.canvas.width / mpl.ratio, fig.canvas.height / mpl.ratio);\n",
       "\n",
       "    fig.rubberband_context.strokeRect(min_x, min_y, width, height);\n",
       "}\n",
       "\n",
       "mpl.figure.prototype.handle_figure_label = function(fig, msg) {\n",
       "    // Updates the figure title.\n",
       "    fig.header.textContent = msg['label'];\n",
       "}\n",
       "\n",
       "mpl.figure.prototype.handle_cursor = function(fig, msg) {\n",
       "    var cursor = msg['cursor'];\n",
       "    switch(cursor)\n",
       "    {\n",
       "    case 0:\n",
       "        cursor = 'pointer';\n",
       "        break;\n",
       "    case 1:\n",
       "        cursor = 'default';\n",
       "        break;\n",
       "    case 2:\n",
       "        cursor = 'crosshair';\n",
       "        break;\n",
       "    case 3:\n",
       "        cursor = 'move';\n",
       "        break;\n",
       "    }\n",
       "    fig.rubberband_canvas.style.cursor = cursor;\n",
       "}\n",
       "\n",
       "mpl.figure.prototype.handle_message = function(fig, msg) {\n",
       "    fig.message.textContent = msg['message'];\n",
       "}\n",
       "\n",
       "mpl.figure.prototype.handle_draw = function(fig, msg) {\n",
       "    // Request the server to send over a new figure.\n",
       "    fig.send_draw_message();\n",
       "}\n",
       "\n",
       "mpl.figure.prototype.handle_image_mode = function(fig, msg) {\n",
       "    fig.image_mode = msg['mode'];\n",
       "}\n",
       "\n",
       "mpl.figure.prototype.updated_canvas_event = function() {\n",
       "    // Called whenever the canvas gets updated.\n",
       "    this.send_message(\"ack\", {});\n",
       "}\n",
       "\n",
       "// A function to construct a web socket function for onmessage handling.\n",
       "// Called in the figure constructor.\n",
       "mpl.figure.prototype._make_on_message_function = function(fig) {\n",
       "    return function socket_on_message(evt) {\n",
       "        if (evt.data instanceof Blob) {\n",
       "            /* FIXME: We get \"Resource interpreted as Image but\n",
       "             * transferred with MIME type text/plain:\" errors on\n",
       "             * Chrome.  But how to set the MIME type?  It doesn't seem\n",
       "             * to be part of the websocket stream */\n",
       "            evt.data.type = \"image/png\";\n",
       "\n",
       "            /* Free the memory for the previous frames */\n",
       "            if (fig.imageObj.src) {\n",
       "                (window.URL || window.webkitURL).revokeObjectURL(\n",
       "                    fig.imageObj.src);\n",
       "            }\n",
       "\n",
       "            fig.imageObj.src = (window.URL || window.webkitURL).createObjectURL(\n",
       "                evt.data);\n",
       "            fig.updated_canvas_event();\n",
       "            fig.waiting = false;\n",
       "            return;\n",
       "        }\n",
       "        else if (typeof evt.data === 'string' && evt.data.slice(0, 21) == \"data:image/png;base64\") {\n",
       "            fig.imageObj.src = evt.data;\n",
       "            fig.updated_canvas_event();\n",
       "            fig.waiting = false;\n",
       "            return;\n",
       "        }\n",
       "\n",
       "        var msg = JSON.parse(evt.data);\n",
       "        var msg_type = msg['type'];\n",
       "\n",
       "        // Call the  \"handle_{type}\" callback, which takes\n",
       "        // the figure and JSON message as its only arguments.\n",
       "        try {\n",
       "            var callback = fig[\"handle_\" + msg_type];\n",
       "        } catch (e) {\n",
       "            console.log(\"No handler for the '\" + msg_type + \"' message type: \", msg);\n",
       "            return;\n",
       "        }\n",
       "\n",
       "        if (callback) {\n",
       "            try {\n",
       "                // console.log(\"Handling '\" + msg_type + \"' message: \", msg);\n",
       "                callback(fig, msg);\n",
       "            } catch (e) {\n",
       "                console.log(\"Exception inside the 'handler_\" + msg_type + \"' callback:\", e, e.stack, msg);\n",
       "            }\n",
       "        }\n",
       "    };\n",
       "}\n",
       "\n",
       "// from http://stackoverflow.com/questions/1114465/getting-mouse-location-in-canvas\n",
       "mpl.findpos = function(e) {\n",
       "    //this section is from http://www.quirksmode.org/js/events_properties.html\n",
       "    var targ;\n",
       "    if (!e)\n",
       "        e = window.event;\n",
       "    if (e.target)\n",
       "        targ = e.target;\n",
       "    else if (e.srcElement)\n",
       "        targ = e.srcElement;\n",
       "    if (targ.nodeType == 3) // defeat Safari bug\n",
       "        targ = targ.parentNode;\n",
       "\n",
       "    // jQuery normalizes the pageX and pageY\n",
       "    // pageX,Y are the mouse positions relative to the document\n",
       "    // offset() returns the position of the element relative to the document\n",
       "    var x = e.pageX - $(targ).offset().left;\n",
       "    var y = e.pageY - $(targ).offset().top;\n",
       "\n",
       "    return {\"x\": x, \"y\": y};\n",
       "};\n",
       "\n",
       "/*\n",
       " * return a copy of an object with only non-object keys\n",
       " * we need this to avoid circular references\n",
       " * http://stackoverflow.com/a/24161582/3208463\n",
       " */\n",
       "function simpleKeys (original) {\n",
       "  return Object.keys(original).reduce(function (obj, key) {\n",
       "    if (typeof original[key] !== 'object')\n",
       "        obj[key] = original[key]\n",
       "    return obj;\n",
       "  }, {});\n",
       "}\n",
       "\n",
       "mpl.figure.prototype.mouse_event = function(event, name) {\n",
       "    var canvas_pos = mpl.findpos(event)\n",
       "\n",
       "    if (name === 'button_press')\n",
       "    {\n",
       "        this.canvas.focus();\n",
       "        this.canvas_div.focus();\n",
       "    }\n",
       "\n",
       "    var x = canvas_pos.x * mpl.ratio;\n",
       "    var y = canvas_pos.y * mpl.ratio;\n",
       "\n",
       "    this.send_message(name, {x: x, y: y, button: event.button,\n",
       "                             step: event.step,\n",
       "                             guiEvent: simpleKeys(event)});\n",
       "\n",
       "    /* This prevents the web browser from automatically changing to\n",
       "     * the text insertion cursor when the button is pressed.  We want\n",
       "     * to control all of the cursor setting manually through the\n",
       "     * 'cursor' event from matplotlib */\n",
       "    event.preventDefault();\n",
       "    return false;\n",
       "}\n",
       "\n",
       "mpl.figure.prototype._key_event_extra = function(event, name) {\n",
       "    // Handle any extra behaviour associated with a key event\n",
       "}\n",
       "\n",
       "mpl.figure.prototype.key_event = function(event, name) {\n",
       "\n",
       "    // Prevent repeat events\n",
       "    if (name == 'key_press')\n",
       "    {\n",
       "        if (event.which === this._key)\n",
       "            return;\n",
       "        else\n",
       "            this._key = event.which;\n",
       "    }\n",
       "    if (name == 'key_release')\n",
       "        this._key = null;\n",
       "\n",
       "    var value = '';\n",
       "    if (event.ctrlKey && event.which != 17)\n",
       "        value += \"ctrl+\";\n",
       "    if (event.altKey && event.which != 18)\n",
       "        value += \"alt+\";\n",
       "    if (event.shiftKey && event.which != 16)\n",
       "        value += \"shift+\";\n",
       "\n",
       "    value += 'k';\n",
       "    value += event.which.toString();\n",
       "\n",
       "    this._key_event_extra(event, name);\n",
       "\n",
       "    this.send_message(name, {key: value,\n",
       "                             guiEvent: simpleKeys(event)});\n",
       "    return false;\n",
       "}\n",
       "\n",
       "mpl.figure.prototype.toolbar_button_onclick = function(name) {\n",
       "    if (name == 'download') {\n",
       "        this.handle_save(this, null);\n",
       "    } else {\n",
       "        this.send_message(\"toolbar_button\", {name: name});\n",
       "    }\n",
       "};\n",
       "\n",
       "mpl.figure.prototype.toolbar_button_onmouseover = function(tooltip) {\n",
       "    this.message.textContent = tooltip;\n",
       "};\n",
       "mpl.toolbar_items = [[\"Home\", \"Reset original view\", \"fa fa-home icon-home\", \"home\"], [\"Back\", \"Back to previous view\", \"fa fa-arrow-left icon-arrow-left\", \"back\"], [\"Forward\", \"Forward to next view\", \"fa fa-arrow-right icon-arrow-right\", \"forward\"], [\"\", \"\", \"\", \"\"], [\"Pan\", \"Pan axes with left mouse, zoom with right\", \"fa fa-arrows icon-move\", \"pan\"], [\"Zoom\", \"Zoom to rectangle\", \"fa fa-square-o icon-check-empty\", \"zoom\"], [\"\", \"\", \"\", \"\"], [\"Download\", \"Download plot\", \"fa fa-floppy-o icon-save\", \"download\"]];\n",
       "\n",
       "mpl.extensions = [\"eps\", \"jpeg\", \"pdf\", \"png\", \"ps\", \"raw\", \"svg\", \"tif\"];\n",
       "\n",
       "mpl.default_extension = \"png\";var comm_websocket_adapter = function(comm) {\n",
       "    // Create a \"websocket\"-like object which calls the given IPython comm\n",
       "    // object with the appropriate methods. Currently this is a non binary\n",
       "    // socket, so there is still some room for performance tuning.\n",
       "    var ws = {};\n",
       "\n",
       "    ws.close = function() {\n",
       "        comm.close()\n",
       "    };\n",
       "    ws.send = function(m) {\n",
       "        //console.log('sending', m);\n",
       "        comm.send(m);\n",
       "    };\n",
       "    // Register the callback with on_msg.\n",
       "    comm.on_msg(function(msg) {\n",
       "        //console.log('receiving', msg['content']['data'], msg);\n",
       "        // Pass the mpl event to the overridden (by mpl) onmessage function.\n",
       "        ws.onmessage(msg['content']['data'])\n",
       "    });\n",
       "    return ws;\n",
       "}\n",
       "\n",
       "mpl.mpl_figure_comm = function(comm, msg) {\n",
       "    // This is the function which gets called when the mpl process\n",
       "    // starts-up an IPython Comm through the \"matplotlib\" channel.\n",
       "\n",
       "    var id = msg.content.data.id;\n",
       "    // Get hold of the div created by the display call when the Comm\n",
       "    // socket was opened in Python.\n",
       "    var element = $(\"#\" + id);\n",
       "    var ws_proxy = comm_websocket_adapter(comm)\n",
       "\n",
       "    function ondownload(figure, format) {\n",
       "        window.open(figure.imageObj.src);\n",
       "    }\n",
       "\n",
       "    var fig = new mpl.figure(id, ws_proxy,\n",
       "                           ondownload,\n",
       "                           element.get(0));\n",
       "\n",
       "    // Call onopen now - mpl needs it, as it is assuming we've passed it a real\n",
       "    // web socket which is closed, not our websocket->open comm proxy.\n",
       "    ws_proxy.onopen();\n",
       "\n",
       "    fig.parent_element = element.get(0);\n",
       "    fig.cell_info = mpl.find_output_cell(\"<div id='\" + id + \"'></div>\");\n",
       "    if (!fig.cell_info) {\n",
       "        console.error(\"Failed to find cell for figure\", id, fig);\n",
       "        return;\n",
       "    }\n",
       "\n",
       "    var output_index = fig.cell_info[2]\n",
       "    var cell = fig.cell_info[0];\n",
       "\n",
       "};\n",
       "\n",
       "mpl.figure.prototype.handle_close = function(fig, msg) {\n",
       "    var width = fig.canvas.width/mpl.ratio\n",
       "    fig.root.unbind('remove')\n",
       "\n",
       "    // Update the output cell to use the data from the current canvas.\n",
       "    fig.push_to_output();\n",
       "    var dataURL = fig.canvas.toDataURL();\n",
       "    // Re-enable the keyboard manager in IPython - without this line, in FF,\n",
       "    // the notebook keyboard shortcuts fail.\n",
       "    IPython.keyboard_manager.enable()\n",
       "    $(fig.parent_element).html('<img src=\"' + dataURL + '\" width=\"' + width + '\">');\n",
       "    fig.close_ws(fig, msg);\n",
       "}\n",
       "\n",
       "mpl.figure.prototype.close_ws = function(fig, msg){\n",
       "    fig.send_message('closing', msg);\n",
       "    // fig.ws.close()\n",
       "}\n",
       "\n",
       "mpl.figure.prototype.push_to_output = function(remove_interactive) {\n",
       "    // Turn the data on the canvas into data in the output cell.\n",
       "    var width = this.canvas.width/mpl.ratio\n",
       "    var dataURL = this.canvas.toDataURL();\n",
       "    this.cell_info[1]['text/html'] = '<img src=\"' + dataURL + '\" width=\"' + width + '\">';\n",
       "}\n",
       "\n",
       "mpl.figure.prototype.updated_canvas_event = function() {\n",
       "    // Tell IPython that the notebook contents must change.\n",
       "    IPython.notebook.set_dirty(true);\n",
       "    this.send_message(\"ack\", {});\n",
       "    var fig = this;\n",
       "    // Wait a second, then push the new image to the DOM so\n",
       "    // that it is saved nicely (might be nice to debounce this).\n",
       "    setTimeout(function () { fig.push_to_output() }, 1000);\n",
       "}\n",
       "\n",
       "mpl.figure.prototype._init_toolbar = function() {\n",
       "    var fig = this;\n",
       "\n",
       "    var nav_element = $('<div/>');\n",
       "    nav_element.attr('style', 'width: 100%');\n",
       "    this.root.append(nav_element);\n",
       "\n",
       "    // Define a callback function for later on.\n",
       "    function toolbar_event(event) {\n",
       "        return fig.toolbar_button_onclick(event['data']);\n",
       "    }\n",
       "    function toolbar_mouse_event(event) {\n",
       "        return fig.toolbar_button_onmouseover(event['data']);\n",
       "    }\n",
       "\n",
       "    for(var toolbar_ind in mpl.toolbar_items){\n",
       "        var name = mpl.toolbar_items[toolbar_ind][0];\n",
       "        var tooltip = mpl.toolbar_items[toolbar_ind][1];\n",
       "        var image = mpl.toolbar_items[toolbar_ind][2];\n",
       "        var method_name = mpl.toolbar_items[toolbar_ind][3];\n",
       "\n",
       "        if (!name) { continue; };\n",
       "\n",
       "        var button = $('<button class=\"btn btn-default\" href=\"#\" title=\"' + name + '\"><i class=\"fa ' + image + ' fa-lg\"></i></button>');\n",
       "        button.click(method_name, toolbar_event);\n",
       "        button.mouseover(tooltip, toolbar_mouse_event);\n",
       "        nav_element.append(button);\n",
       "    }\n",
       "\n",
       "    // Add the status bar.\n",
       "    var status_bar = $('<span class=\"mpl-message\" style=\"text-align:right; float: right;\"/>');\n",
       "    nav_element.append(status_bar);\n",
       "    this.message = status_bar[0];\n",
       "\n",
       "    // Add the close button to the window.\n",
       "    var buttongrp = $('<div class=\"btn-group inline pull-right\"></div>');\n",
       "    var button = $('<button class=\"btn btn-mini btn-primary\" href=\"#\" title=\"Stop Interaction\"><i class=\"fa fa-power-off icon-remove icon-large\"></i></button>');\n",
       "    button.click(function (evt) { fig.handle_close(fig, {}); } );\n",
       "    button.mouseover('Stop Interaction', toolbar_mouse_event);\n",
       "    buttongrp.append(button);\n",
       "    var titlebar = this.root.find($('.ui-dialog-titlebar'));\n",
       "    titlebar.prepend(buttongrp);\n",
       "}\n",
       "\n",
       "mpl.figure.prototype._root_extra_style = function(el){\n",
       "    var fig = this\n",
       "    el.on(\"remove\", function(){\n",
       "\tfig.close_ws(fig, {});\n",
       "    });\n",
       "}\n",
       "\n",
       "mpl.figure.prototype._canvas_extra_style = function(el){\n",
       "    // this is important to make the div 'focusable\n",
       "    el.attr('tabindex', 0)\n",
       "    // reach out to IPython and tell the keyboard manager to turn it's self\n",
       "    // off when our div gets focus\n",
       "\n",
       "    // location in version 3\n",
       "    if (IPython.notebook.keyboard_manager) {\n",
       "        IPython.notebook.keyboard_manager.register_events(el);\n",
       "    }\n",
       "    else {\n",
       "        // location in version 2\n",
       "        IPython.keyboard_manager.register_events(el);\n",
       "    }\n",
       "\n",
       "}\n",
       "\n",
       "mpl.figure.prototype._key_event_extra = function(event, name) {\n",
       "    var manager = IPython.notebook.keyboard_manager;\n",
       "    if (!manager)\n",
       "        manager = IPython.keyboard_manager;\n",
       "\n",
       "    // Check for shift+enter\n",
       "    if (event.shiftKey && event.which == 13) {\n",
       "        this.canvas_div.blur();\n",
       "        event.shiftKey = false;\n",
       "        // Send a \"J\" for go to next cell\n",
       "        event.which = 74;\n",
       "        event.keyCode = 74;\n",
       "        manager.command_mode();\n",
       "        manager.handle_keydown(event);\n",
       "    }\n",
       "}\n",
       "\n",
       "mpl.figure.prototype.handle_save = function(fig, msg) {\n",
       "    fig.ondownload(fig, null);\n",
       "}\n",
       "\n",
       "\n",
       "mpl.find_output_cell = function(html_output) {\n",
       "    // Return the cell and output element which can be found *uniquely* in the notebook.\n",
       "    // Note - this is a bit hacky, but it is done because the \"notebook_saving.Notebook\"\n",
       "    // IPython event is triggered only after the cells have been serialised, which for\n",
       "    // our purposes (turning an active figure into a static one), is too late.\n",
       "    var cells = IPython.notebook.get_cells();\n",
       "    var ncells = cells.length;\n",
       "    for (var i=0; i<ncells; i++) {\n",
       "        var cell = cells[i];\n",
       "        if (cell.cell_type === 'code'){\n",
       "            for (var j=0; j<cell.output_area.outputs.length; j++) {\n",
       "                var data = cell.output_area.outputs[j];\n",
       "                if (data.data) {\n",
       "                    // IPython >= 3 moved mimebundle to data attribute of output\n",
       "                    data = data.data;\n",
       "                }\n",
       "                if (data['text/html'] == html_output) {\n",
       "                    return [cell, data, j];\n",
       "                }\n",
       "            }\n",
       "        }\n",
       "    }\n",
       "}\n",
       "\n",
       "// Register the function which deals with the matplotlib target/channel.\n",
       "// The kernel may be null if the page has been refreshed.\n",
       "if (IPython.notebook.kernel != null) {\n",
       "    IPython.notebook.kernel.comm_manager.register_target('matplotlib', mpl.mpl_figure_comm);\n",
       "}\n"
      ],
      "text/plain": [
       "<IPython.core.display.Javascript object>"
      ]
     },
     "metadata": {},
     "output_type": "display_data"
    },
    {
     "data": {
      "text/html": [
       "<img src=\"data:image/png;base64,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\" width=\"500\">"
      ],
      "text/plain": [
       "<IPython.core.display.HTML object>"
      ]
     },
     "metadata": {},
     "output_type": "display_data"
    },
    {
     "name": "stdout",
     "output_type": "stream",
     "text": [
      "w:\n",
      "[[0.55894282]\n",
      " [0.42792729]]\n"
     ]
    }
   ],
   "source": [
    "# plot\n",
    "plot_3d_lls(X[:,0], X[:, 1], Y, lls_sol, \"Breast Cancer - Radius Mean vs. Area Mean vs. Perimeter Mean - LLS Mini-Batch GD\")\n",
    "print(\"w:\")\n",
    "print(w)"
   ]
  },
  {
   "cell_type": "markdown",
   "metadata": {
    "slideshow": {
     "slide_type": "slide"
    }
   },
   "source": [
    "## <img src=\"https://img.icons8.com/clouds/100/000000/stopwatch.png\" style=\"height:50px;display:inline\"> Learning Rate Scheduling (Annealing)\n",
    "---\n",
    "* When training deep networks, it is usually helpful to anneal (gradually change the rate) the learning rate over time. \n",
    "    * Physics intuition: with a high learning rate, the system contains too much *kinetic energy* and the parameter vector bounces around chaotically, unable to settle down into deeper, but narrower parts of the loss function. \n",
    "* Knowing when to decay the learning rate can be tricky: decay it **slowly** and you’ll be wasting computation bouncing around chaotically with little improvement for a long time. But decay it **too aggressively** and the system will cool too quickly, unable to reach the best position it can. \n",
    "* There are three common types of implementing the learning rate decay: step deacy, exponential decay and $1/t$ decay.\n",
    "    * Recently, *cyclic* learning schedulers, such as <a href=\"https://www.kaggle.com/residentmario/one-cycle-learning-rate-schedulers\">One-cycle learning rate scheduler</a>, have been gaining popularity as well."
   ]
  },
  {
   "cell_type": "markdown",
   "metadata": {
    "slideshow": {
     "slide_type": "subslide"
    }
   },
   "source": [
    "* **Step decay**: Reduce the learning rate by some factor every few epochs. \n",
    "    * Typical values might be reducing the learning rate by a half every 5 epochs, or by 0.1 every 20 epochs. These numbers depend heavily on the type of problem and the model. \n",
    "    * One heuristic you may see in practice is to watch the *validation error* while training with a fixed learning rate, and reduce the learning rate by a constant (e.g. 0.5) whenever the validation error stops improving."
   ]
  },
  {
   "cell_type": "markdown",
   "metadata": {
    "slideshow": {
     "slide_type": "subslide"
    }
   },
   "source": [
    "* **Exponential decay**: has the mathematical form: $$\\alpha = \\alpha_0 \\exp(-kt),$$ where $\\alpha_0, k$ are hyperparameters and $t$ is the iteration number (but you can also use units of epochs).\n",
    "    * $\\alpha_0$ is the initial learning rate."
   ]
  },
  {
   "cell_type": "markdown",
   "metadata": {
    "slideshow": {
     "slide_type": "subslide"
    }
   },
   "source": [
    "* **1/t decay**: has the mathematical form: $$\\alpha = \\frac{\\alpha_0}{1+kt},$$ where $\\alpha_0,k$ are hyperparameters and $t$ is the iteration number."
   ]
  },
  {
   "cell_type": "markdown",
   "metadata": {
    "slideshow": {
     "slide_type": "subslide"
    }
   },
   "source": [
    "* In practice, we find that the **step decay** is slightly preferable because the hyperparameters it involves (the fraction of decay and the step timings in units of epochs) are more interpretable than the hyperparameter $k$. \n",
    "* Lastly, if you can afford the computational budget, you can try a slower decay and train for a longer time."
   ]
  },
  {
   "cell_type": "markdown",
   "metadata": {
    "slideshow": {
     "slide_type": "slide"
    }
   },
   "source": [
    "### <img src=\"https://img.icons8.com/cotton/64/000000/olympic-torch.png\" style=\"height:50px;display:inline\"> Learning Rate Scheduling in PyTorch\n",
    "---\n",
    "* We will use learning rate scheduling to train the neural network models later in the course.\n",
    "* PyTorch offers several schedulers which can be found <a href=\"https://pytorch.org/docs/stable/optim.html#how-to-adjust-learning-rate\">here</a>.\n",
    "* A typical workflow with schedulers (learning rate scheduling should be applied **after** optimizer’s update):\n",
    "<code>\n",
    "scheduler = ...\n",
    "for epoch in range(100):\n",
    "    train(...)\n",
    "    validate(...)\n",
    "    scheduler.step()\n",
    "</code>"
   ]
  },
  {
   "cell_type": "markdown",
   "metadata": {
    "slideshow": {
     "slide_type": "subslide"
    }
   },
   "source": [
    "* `torch.optim.lr_scheduler.StepLR`\n",
    "* `torch.optim.lr_scheduler.MultiStepLR`\n",
    "* `torch.optim.lr_scheduler.ExponentialLR`\n",
    "* `torch.optim.lr_scheduler.CosineAnnealingLR`\n",
    "* And more..."
   ]
  },
  {
   "cell_type": "markdown",
   "metadata": {
    "slideshow": {
     "slide_type": "subslide"
    }
   },
   "source": [
    "#### Reducing LR on Plateau\n",
    "---\n",
    "* Reduce learning rate when a metric has stopped improving. Usually the validation accuracy.\n",
    "* Models often benefit from reducing the learning rate by a factor of 2-10 once learning does not improve. \n",
    "* This scheduler reads a metrics quantity and if no improvement is seen for a ‘patience’ number of epochs, the learning rate is reduced.\n",
    "* In PyTorch: `torch.optim.lr_scheduler.ReduceLROnPlateau`"
   ]
  },
  {
   "cell_type": "markdown",
   "metadata": {
    "slideshow": {
     "slide_type": "slide"
    }
   },
   "source": [
    "## <img src=\"https://img.icons8.com/clouds/100/000000/hill-descent-control.png\" style=\"height:50px;display:inline\"> Momentum & Nesterov Momentum\n",
    "---\n",
    "* Gradient descent is simple and has many virtues, but **speed** is not one of them.\n",
    "* For a step-size small enough, gradient descent makes a monotonic improvement at every iteration. It always converges (sometimes to a local minimum).\n",
    "* **Momentum update** is another optimization approach that almost always enjoys better convergence rates in deep networks. \n",
    "    * It can be seen as a **\"global\" (equally for all parameters) adaptive learning rate**."
   ]
  },
  {
   "cell_type": "markdown",
   "metadata": {
    "slideshow": {
     "slide_type": "subslide"
    }
   },
   "source": [
    "* This update can be motivated from a physical perspective of the optimization problem. In particular, the loss can be interpreted as the height of a *hilly terrain*.\n",
    "    *  Initializing the parameters with random numbers is equivalent to setting a particle with zero initial velocity at some location. The optimization process can then be seen as equivalent to the process of simulating the parameter vector (i.e. a particle) as rolling on the landscape.\n",
    "    * Since the force on the particle is related to the gradient of potential energy (i.e. $F=−\\nabla U$ ), the force felt by the particle is precisely the (negative) gradient of the loss function. \n",
    "    * Moreover, $F=ma$ so the (negative) gradient is in this view proportional to the acceleration of the particle.\n",
    "    * The physics view suggests an update in which the gradient only directly influences the velocity, which in turn has an effect on the position"
   ]
  },
  {
   "cell_type": "markdown",
   "metadata": {
    "slideshow": {
     "slide_type": "subslide"
    }
   },
   "source": [
    "* Momentum proposes the following tweak to gradient descent, giving gradient descent a short-term memory: $$ z^{k+1} = \\beta z_k -\\alpha\\nabla f(w^k) $$ $$ w^{k+1} = w^k + z^{k+1} $$\n",
    "    * $\\alpha$ is the learning rate.\n",
    "\n",
    "* When $\\beta = 0$ , we recover gradient descent. But for $\\beta = 0.99$ (sometimes 0.999, if things are really bad), this appears to be the boost we need. Our iterations regain that speed and boldness it lost, speeding to the optimum with a renewed energy.\n",
    "* $\\beta$ is a variable that is sometimes called *momentum*.\n",
    "* Effectively, this variable **damps the velocity and reduces the kinetic energy of the system**, or otherwise the particle would never come to a stop at the bottom of a hill.\n",
    "* With Momentum update, the parameter vector will build up velocity in any direction that has consistent gradient.\n",
    "* <a href=\"https://distill.pub/2017/momentum/\">Momentum Demo</a>"
   ]
  },
  {
   "cell_type": "markdown",
   "metadata": {
    "slideshow": {
     "slide_type": "subslide"
    }
   },
   "source": [
    "<img src=\"./assets/sgd-mom.png\" style=\"height:250px\">\n",
    "\n",
    "* <a href=\"https://dominikschmidt.xyz/nesterov-momentum\">Image Source</a>"
   ]
  },
  {
   "cell_type": "markdown",
   "metadata": {
    "slideshow": {
     "slide_type": "slide"
    }
   },
   "source": [
    "#### Nesterov Momentum\n",
    "---\n",
    "* Nesterov Momentum is a slightly different version of the momentum update that has recently been gaining popularity. \n",
    "* It enjoys stronger theoretical convergence guarantees for **convex functions** and in practice it also consistenly works slightly better than standard momentum.\n",
    "* The core idea behind Nesterov momentum is that when the current parameter vector is at some position $x$, then looking at the momentum update above, we know that the momentum term alone (i.e. ignoring the second term with the gradient) is about to nudge the parameter vector by $\\beta * z_k$. \n",
    "* Therefore, if we are about to compute the gradient, we can treat the future approximate position $x + \\beta * z_k$ as a **“lookahead”** - this is a point in the vicinity of where we are soon going to end up. \n",
    "* Hence, it makes sense to compute the **gradient** at $x + \\beta * z_k$ instead of at the “old/stale” position $x$, since while the gradient term always points in the right direction, the momentum term may not. If the momentum term points in the wrong direction or overshoots, the gradient can still \"go back\" and correct it in the same update step.\n"
   ]
  },
  {
   "cell_type": "markdown",
   "metadata": {
    "slideshow": {
     "slide_type": "subslide"
    }
   },
   "source": [
    "* **Nesterov Momentum**: $$ z^{k+1} = \\beta z^k -\\alpha \\nabla f(w^k +\\beta z^k) $$ $$ w^{k+1} = w^k + z^{k+1} $$"
   ]
  },
  {
   "cell_type": "markdown",
   "metadata": {
    "slideshow": {
     "slide_type": "subslide"
    }
   },
   "source": [
    "<img src=\"./assets/sgd-nag.png\" style=\"height:250px\">\n",
    "\n",
    "* <a href=\"https://dominikschmidt.xyz/nesterov-momentum\">Image Source</a>"
   ]
  },
  {
   "cell_type": "markdown",
   "metadata": {
    "slideshow": {
     "slide_type": "slide"
    }
   },
   "source": [
    "### <img src=\"https://img.icons8.com/cotton/64/000000/olympic-torch.png\" style=\"height:50px;display:inline\"> Momentum in PyTorch\n",
    "---\n",
    "* `torch.optim.SGD(model.parameters(), lr=learning_rate, momentum=0.9, nesterov=True)`"
   ]
  },
  {
   "cell_type": "code",
   "execution_count": null,
   "metadata": {
    "slideshow": {
     "slide_type": "slide"
    }
   },
   "outputs": [],
   "source": [
    "# simple optimizer and lr scheduling example\n",
    "# courtesy of: deeplearningwizard.com/deep_learning/boosting_models_pytorch/lr_scheduling/\n",
    "\n",
    "from torch.optim.lr_scheduler import ReduceLROnPlateau\n",
    "\n",
    "'''\n",
    "STEP 1: LOADING DATASET\n",
    "'''\n",
    "\n",
    "train_dataset = dsets.MNIST(root='./data', \n",
    "                            train=True, \n",
    "                            transform=transforms.ToTensor(),\n",
    "                            download=True)\n",
    "\n",
    "test_dataset = dsets.MNIST(root='./data', \n",
    "                           train=False, \n",
    "                           transform=transforms.ToTensor())\n",
    "\n",
    "'''\n",
    "STEP 2: MAKING DATASET ITERABLE\n",
    "'''\n",
    "\n",
    "batch_size = 100\n",
    "n_iters = 6000\n",
    "num_epochs = n_iters / (len(train_dataset) / batch_size)\n",
    "num_epochs = int(num_epochs)\n",
    "\n",
    "train_loader = torch.utils.data.DataLoader(dataset=train_dataset, \n",
    "                                           batch_size=batch_size, \n",
    "                                           shuffle=True)\n",
    "\n",
    "test_loader = torch.utils.data.DataLoader(dataset=test_dataset, \n",
    "                                          batch_size=batch_size, \n",
    "                                          shuffle=False)\n",
    "\n",
    "'''\n",
    "STEP 3: CREATE MODEL CLASS\n",
    "'''\n",
    "class SimpleModel(nn.Module):\n",
    "    def __init__(self, input_dim, hidden_dim, output_dim):\n",
    "        super(SimpleModel, self).__init__()\n",
    "        # Linear function\n",
    "        self.fc1 = nn.Linear(input_dim, hidden_dim) \n",
    "        # Non-linearity\n",
    "        self.relu = nn.ReLU()\n",
    "        # Linear function (readout)\n",
    "        self.fc2 = nn.Linear(hidden_dim, output_dim)  \n",
    "\n",
    "    def forward(self, x):\n",
    "        # Linear function\n",
    "        out = self.fc1(x)\n",
    "        # Non-linearity\n",
    "        out = self.relu(out)\n",
    "        # Linear function (readout)\n",
    "        out = self.fc2(out)\n",
    "        return out\n",
    "'''\n",
    "STEP 4: INSTANTIATE MODEL CLASS AND DEVICE\n",
    "'''\n",
    "input_dim = 28 * 28\n",
    "hidden_dim = 100\n",
    "output_dim = 10\n",
    "device = torch.device(\"cuda:0\" if torch.cuda.is_available() else \"cpu\")\n",
    "\n",
    "model = SimpleModel(input_dim, hidden_dim, output_dim).to(device)\n",
    "\n",
    "'''\n",
    "STEP 5: INSTANTIATE LOSS CLASS\n",
    "'''\n",
    "criterion = nn.CrossEntropyLoss()\n",
    "\n",
    "\n",
    "'''\n",
    "STEP 6: INSTANTIATE OPTIMIZER CLASS\n",
    "'''\n",
    "learning_rate = 0.1\n",
    "\n",
    "optimizer = torch.optim.SGD(model.parameters(), lr=learning_rate, momentum=0.9, nesterov=True)\n",
    "\n",
    "'''\n",
    "STEP 7: INSTANTIATE STEP LEARNING SCHEDULER CLASS\n",
    "'''\n",
    "# lr = lr * factor \n",
    "# mode='max': look for the maximum validation accuracy to track\n",
    "# patience: number of epochs - 1 where loss plateaus before decreasing LR\n",
    "        # patience = 0, after 1 bad epoch, reduce LR\n",
    "# factor = decaying factor\n",
    "scheduler = ReduceLROnPlateau(optimizer, mode='max', factor=0.1, patience=0, verbose=True)\n",
    "\n",
    "'''\n",
    "STEP 7: TRAIN THE MODEL\n",
    "'''\n",
    "iter = 0\n",
    "for epoch in range(num_epochs):\n",
    "    for i, (images, labels) in enumerate(train_loader):\n",
    "        # Send images and labels to device\n",
    "        images = images.view(-1, 28 * 28).to(device)\n",
    "        labeles = labels.to(device)\n",
    "\n",
    "        # Forward pass to get output/logits\n",
    "        outputs = model(images)\n",
    "\n",
    "        # Calculate Loss: softmax --> cross entropy loss\n",
    "        loss = criterion(outputs, labels)\n",
    "        \n",
    "        # Clear gradients w.r.t. parameters\n",
    "        optimizer.zero_grad()\n",
    "\n",
    "        # Getting gradients w.r.t. parameters\n",
    "        loss.backward()\n",
    "\n",
    "        # Updating parameters\n",
    "        optimizer.step()\n",
    "\n",
    "        iter += 1\n",
    "\n",
    "        if iter % 500 == 0:\n",
    "            # Calculate Accuracy         \n",
    "            correct = 0\n",
    "            total = 0\n",
    "            # Iterate through test dataset\n",
    "            for images, labels in test_loader:\n",
    "                # Send images and labels to device\n",
    "                images = images.view(-1, 28 * 28).to(device)\n",
    "                labeles = labels.to(device)\n",
    "\n",
    "                # Forward pass only to get logits/output\n",
    "                outputs = model(images)\n",
    "\n",
    "                # Get predictions from the maximum value\n",
    "                _, predicted = torch.max(outputs.data, 1)\n",
    "\n",
    "                # Total number of labels\n",
    "                total += labels.size(0)\n",
    "\n",
    "                # Total correct predictions\n",
    "                # Without .item(), it is a uint8 tensor which will not work when you pass this number to the scheduler\n",
    "                correct += (predicted == labels).sum().item()\n",
    "\n",
    "            accuracy = 100 * correct / total\n",
    "\n",
    "            # Print Loss\n",
    "            # print('Iteration: {}. Loss: {}. Accuracy: {}'.format(iter, loss.data[0], accuracy))\n",
    "\n",
    "    # Decay Learning Rate, pass validation accuracy for tracking at every epoch\n",
    "    print('Epoch {} completed'.format(epoch))\n",
    "    print('Loss: {}. Accuracy: {}'.format(loss.item(), accuracy))\n",
    "    print('-' * 20)\n",
    "    scheduler.step(accuracy)  # accuracy is used to track down a plateau"
   ]
  },
  {
   "cell_type": "markdown",
   "metadata": {
    "slideshow": {
     "slide_type": "slide"
    }
   },
   "source": [
    "## <img src=\"https://img.icons8.com/dusk/64/000000/wired-network.png\" style=\"height:50px;display:inline\"> Adaptive Learning Rate Methods\n",
    "---\n",
    "**Adapative learning methods compute individual learning rates for different parameters.**\n",
    "Previously, we performed an update for all parameters $w$ (or $\\theta$) at once as every parameter $w_i$ used the same learning rate $\\alpha$.\n",
    "\n",
    "\n",
    "Popular algorithms include: AdaGrad, Rprop, RMSprop, Adam and more..."
   ]
  },
  {
   "cell_type": "markdown",
   "metadata": {
    "slideshow": {
     "slide_type": "slide"
    }
   },
   "source": [
    "## <img src=\"https://img.icons8.com/plasticine/100/000000/horizontal-settings-mixer.png\" style=\"height:50px;display:inline\"> Adagrad\n",
    "---\n",
    "* **Adagrad**: one of the first adaptive learning rate algorithm, with the basic idea of adapting the learning rate to the parameters by performing smaller updates (i.e. low learning rates) for parameters associated with *frequently* occurring features, and larger updates (i.e. high learning rates) for parameters associated with *infrequent* features.\n",
    "    * For this reason, it works well with *sparse* data.\n",
    "* Adagrad uses a different learning rate for every parameter $w_i$ at every time step $k$\n",
    "* We denote:\n",
    "    * $\\alpha$ - the learning rate.\n",
    "    * $g_k = \\nabla f(w^k)$, the gradient at time step $k$, and $g_{i, k}$ the *partial* derivative w.r.t. the parameter $w_i$ at time step $k$.\n",
    "    * $G_k \\in \\mathbb{R}^{d \\times d}$ - a *diagonal* matrix, where each element $G_{i,i}^k$ is the **sum of squares of the gradients w.r.t $w_i$ up to time step $k$**, $G_{i, i}^k = \\sum_{j=1}^k g_{i, j}^2$.\n",
    "    * $\\epsilon$, a \"smoothing\" term that prevents division by zero, deafult's is $10^{-8}$, but can range from $10^{-4}$ to $10^{-8}$."
   ]
  },
  {
   "cell_type": "markdown",
   "metadata": {
    "slideshow": {
     "slide_type": "subslide"
    }
   },
   "source": [
    "* The Adagrad update rule: $$ w_i^{k+1} = w_i^k -\\frac{\\alpha}{\\sqrt{G_{i,i}^k + \\epsilon}} \\cdot g_{i, k} $$\n",
    "* Interestingly, without the square root operation, the algorithm performs much worse.\n",
    "* In vectorized form, we use the matrix-vector product $\\odot$ between $G_k$ and $g_k$: $$ w^{k+1} = w^k -\\frac{\\alpha}{\\sqrt{G^k + \\epsilon}} \\odot g_{k} $$"
   ]
  },
  {
   "cell_type": "markdown",
   "metadata": {
    "slideshow": {
     "slide_type": "subslide"
    }
   },
   "source": [
    "* Adagrad eliminates the need to manually tune the learning rate, which is nice. \n",
    "* Most implementations use a default value of 0.01 for the learning rate.\n",
    "* However, its main **weakness** is the accumulation of the squared gradients (a positive quantity) in the denominator which keeps growing during training and causes the learning rate to **shrink** and eventually become very small, at which point the algorithm doesn't acquire additional knowledge."
   ]
  },
  {
   "cell_type": "markdown",
   "metadata": {
    "slideshow": {
     "slide_type": "subslide"
    }
   },
   "source": [
    "### <img src=\"https://img.icons8.com/cotton/64/000000/olympic-torch.png\" style=\"height:50px;display:inline\"> Adagrad in PyTorch\n",
    "---\n",
    "* `torch.optim.Adagrad(model.parameters(), lr=learning_rate, initial_accumulator_value=0, eps=1e-10)`"
   ]
  },
  {
   "cell_type": "markdown",
   "metadata": {
    "slideshow": {
     "slide_type": "slide"
    }
   },
   "source": [
    "## <img src=\"https://img.icons8.com/cute-clipart/64/000000/square-root.png\" style=\"height:50px;display:inline\"> RMSprop\n",
    "---\n",
    "* **RMSprop**: an unpublished (no official paper) optimization algorithm designed for neural networks, first proposed by Geoffrey Hinton in <a href=\"https://www.cs.toronto.edu/~tijmen/csc321/slides/lecture_slides_lec6.pdf\">lecture 6 (slide 29)</a> of the online course “Neural Networks for Machine Learning”.\n",
    "* The RMSProp update adjusts the **Adagrad** method in a very simple way in an attempt to reduce its aggressive, monotonically decreasing learning rate.\n",
    "* In particular, it uses a moving average of squared gradients instead.\n",
    "* We denote:\n",
    "    * $\\alpha$ - the learning rate.\n",
    "    * $g_k = \\nabla f(w^k)$\n",
    "    * $\\mathbb{E}[g^2]$ - moving average of squared gradients (stored in a cache with squared gradients from previous iterations).\n",
    "    * $\\beta$ - moving average parameter (good default value — 0.9)."
   ]
  },
  {
   "cell_type": "markdown",
   "metadata": {
    "slideshow": {
     "slide_type": "subslide"
    }
   },
   "source": [
    "* The RMSprop update rule: $$ \\mathbb{E}[g^2]_{k+1} = \\beta\\mathbb{E}[g^2]_k + (1-\\beta)g_k^2 $$ $$ w^{k+1} = w^k -\\frac{\\alpha}{\\sqrt{\\mathbb{E}[g^2]_{k+1}}}\\nabla f(w^k) $$\n",
    "* The learning rate is adapted by dividing by the root of squared gradient, but since we only have the estimate of the gradient on the current mini-batch, we need instead to use the moving average of it."
   ]
  },
  {
   "cell_type": "markdown",
   "metadata": {
    "slideshow": {
     "slide_type": "subslide"
    }
   },
   "source": [
    "### <img src=\"https://img.icons8.com/cotton/64/000000/olympic-torch.png\" style=\"height:50px;display:inline\"> RMSprop in PyTorch\n",
    "---\n",
    "* `torch.optim.RMSprop(model.parameters(), lr=learning_rate, alpha=0.99)`\n",
    "    * `alpha` is $\\beta$ from the equations above, the moving average parameter."
   ]
  },
  {
   "cell_type": "markdown",
   "metadata": {
    "slideshow": {
     "slide_type": "slide"
    }
   },
   "source": [
    "## <img src=\"https://img.icons8.com/clouds/100/000000/heat-map.png\" style=\"height:50px;display:inline\"> Adam - Adaptive Moment Estimation\n",
    "---\n",
    "* **Adam**: another optimization method that computes adaptive learning rates for each parameter. \n",
    "* Adam combines the advantages of Adagrad, RMSprop and Momentum: It uses the squared gradients to scale the learning rate like RMSprop and it takes advantage of momentum by using moving average of the gradient instead of gradient itself like SGD with momentum.\n",
    "* In addition to storing an exponentially decaying average of past **squared gradients** like Adadelta and RMSprop, Adam also keeps an exponentially decaying average of past **gradients** similar to momentum.\n",
    "    * Whereas momentum can be seen as a ball running down a slope, Adam behaves like a heavy ball with friction, and thus prefers flat minima in the error surface."
   ]
  },
  {
   "cell_type": "markdown",
   "metadata": {
    "slideshow": {
     "slide_type": "subslide"
    }
   },
   "source": [
    "\n",
    "* We denote:\n",
    "    * $\\alpha$ - the learning rate.\n",
    "    * $m$ - moving average of gradients. Estimates the first moment (mean) of the gardients.\n",
    "    * $v$ - moving average of squared gradients. Estimates the second momemnt (variance) of the gradients.\n",
    "    * $\\beta_1$ - moving average parameter for $m$ (default: 0.9).\n",
    "    * $\\beta_2$ - moving average parameter for $v$ (default: 0.999)."
   ]
  },
  {
   "cell_type": "markdown",
   "metadata": {
    "slideshow": {
     "slide_type": "subslide"
    }
   },
   "source": [
    "* The Adam update rule: $$ \\mathbb{E}[g]_{k+1} = m_{k+1} = \\beta_1 m_k + (1-\\beta_1)\\nabla f(w^k) = \\beta_1 m_k + (1-\\beta_1)g_k $$  $$ \\mathbb{E}[g^2]_{k+1} = v_{k+1} = \\beta_2 v_k + (1-\\beta_2)(\\nabla f(w^k))^2 = \\beta_2 v_k + (1-\\beta_2)g^2_k $$ Then, they use an **unbiased** estimation: $$ \\hat{m}_{k+1} = \\frac{m_{k+1}}{1 -\\beta_1^{k+1}} $$ $$ \\hat{v}_{k+1} = \\frac{v_{k+1}}{1 -\\beta_2^{k+1}} $$ (the $\\beta$'s are taken with the power of the current iteration) $$ w^{k+1} = w^k -\\frac{\\alpha}{\\sqrt{\\hat{v_{k}}} +\\epsilon}\\hat{m_k} $$\n",
    "\n",
    "* $\\epsilon$, a \"smoothing\" term that prevents diviosn by zero, deafult's is $10^{-8}$, but can range from $10^{-4}$ to $10^{-8}$."
   ]
  },
  {
   "cell_type": "markdown",
   "metadata": {
    "slideshow": {
     "slide_type": "subslide"
    }
   },
   "source": [
    "### <img src=\"https://img.icons8.com/cotton/64/000000/olympic-torch.png\" style=\"height:50px;display:inline\"> Adam in PyTorch\n",
    "---\n",
    "* `torch.optim.Adam(model.parameters(), lr=learning_rate, betas=(0.9, 0.999))`\n",
    "    \n"
   ]
  },
  {
   "cell_type": "markdown",
   "metadata": {
    "slideshow": {
     "slide_type": "slide"
    }
   },
   "source": [
    "## <img src=\"https://img.icons8.com/doodle/96/000000/scales--v1.png\" style=\"height:50px;display:inline\"> Comparison Between Methods\n",
    "---\n",
    "<img src=\"./assets/loss_conturs_all_grad_w_adam.gif\" style=\"height:300px\">\n",
    "\n",
    "* Contours of a loss surface and time evolution of different optimization algorithms. \n",
    "* Notice the \"overshooting\" behavior of **momentum-based methods**, which makes the optimization look like a ball rolling down the hill.\n",
    "\n",
    "* <a href=\"https://github.com/ilguyi/optimizers.numpy\">Image Source</a>"
   ]
  },
  {
   "cell_type": "markdown",
   "metadata": {
    "slideshow": {
     "slide_type": "subslide"
    }
   },
   "source": [
    "<img src=\"./assets/saddle_point_all_grad.gif\" style=\"height:250px\">\n",
    "\n",
    "* A visualization of a **saddle point** in the optimization landscape, where the curvature along different dimension has different signs (one dimension curves up and another down). \n",
    "* Notice that SGD has a very hard time breaking symmetry and gets *stuck* on the top. \n",
    "* Conversely, algorithms such as RMSprop will see very low gradients in the saddle direction. Due to the denominator term in the RMSprop update, this will increase the effective learning rate along this direction, helping RMSProp proceed.\n",
    "\n",
    "* Image credit: <a href=\"https://twitter.com/alecrad\">Alec Radford</a>"
   ]
  },
  {
   "cell_type": "markdown",
   "metadata": {
    "slideshow": {
     "slide_type": "subslide"
    }
   },
   "source": [
    "### <img src=\"https://img.icons8.com/bubbles/50/000000/video-playlist.png\" style=\"height:50px;display:inline\"> Recommended Videos\n",
    "---\n",
    "#### <img src=\"https://img.icons8.com/cute-clipart/64/000000/warning-shield.png\" style=\"height:30px;display:inline\"> Warning!\n",
    "* These videos do not replace the lectures and tutorials.\n",
    "* Please use these to get a better understanding of the material, and not as an alternative to the written material.\n",
    "\n",
    "#### Video By Subject\n",
    "\n",
    "* Gradient Descent - <a href=\"https://www.youtube.com/watch?v=sDv4f4s2SB8\">Gradient Descent, Step-by-Step</a>\n",
    "    * <a href=\"https://www.youtube.com/watch?v=jc2IthslyzM\">Mathematics of Gradient Descent - Intelligence and Learning</a>\n",
    "* Stochastic Gradient Descent - <a href=\"https://www.youtube.com/watch?v=vMh0zPT0tLI\">Stochastic Gradient Descent, Clearly Explained</a>\n",
    "* Momentum - <a href=\"https://www.youtube.com/watch?v=k8fTYJPd3_I\">Gradient Descent With Momentum (C2W2L06)</a>\n",
    "* RMSProp - <a href=\"https://www.youtube.com/watch?v=_e-LFe_igno\">RMSProp (C2W2L07)</a>\n",
    "* Adam - <a href=\"https://www.youtube.com/watch?v=JXQT_vxqwIs\">Adam Optimization Algorithm (C2W2L08)</a>\n",
    "* Learning Rate Decay - <a href=\"https://www.youtube.com/watch?v=QzulmoOg2JE\">Learning Rate Decay (C2W2L09)</a>\n",
    "* Momentum, Adagrad, RMSProp, Adam - <a href=\"https://www.youtube.com/watch?v=gmwxUy7NYpA\">UC Berkeley, STAT 157 - Momentum, Adagrad, RMSProp, Adam</a>"
   ]
  },
  {
   "cell_type": "markdown",
   "metadata": {
    "slideshow": {
     "slide_type": "skip"
    }
   },
   "source": [
    "## <img src=\"https://img.icons8.com/dusk/64/000000/prize.png\" style=\"height:50px;display:inline\"> Credits\n",
    "---\n",
    "* Icons made by <a href=\"https://www.flaticon.com/authors/becris\" title=\"Becris\">Becris</a> from <a href=\"https://www.flaticon.com/\" title=\"Flaticon\">www.flaticon.com</a>\n",
    "* Icons from <a href=\"https://icons8.com/\">Icons8.com</a> - https://icons8.com\n",
    "* Datasets from <a href=\"https://www.kaggle.com/\">Kaggle</a> - https://www.kaggle.com/\n",
    "* Examples and code snippets were taken from <a href=\"http://shop.oreilly.com/product/0636920052289.do\">\"Hands-On Machine Learning with Scikit-Learn and TensorFlow\"</a>\n",
    "* <a href=\"https://cs231n.github.io/neural-networks-3/\">CS231n: Convolutional Neural Networks for Visual Recognition</a>\n",
    "* <a href=\"https://www.deeplearningwizard.com/deep_learning/boosting_models_pytorch/lr_scheduling/\">Deep Learning Wizard -Learning Rate Scheduling</a>\n",
    "* <a href=\"https://dominikschmidt.xyz/nesterov-momentum\">Understanding Nesterov Momentum (NAG)</a>\n",
    "* <a href=\"https://ruder.io/optimizing-gradient-descent/\">Sebastian Ruder - An overview of gradient descent optimization algorithms</a>"
   ]
  }
 ],
 "metadata": {
  "celltoolbar": "Slideshow",
  "kernelspec": {
   "display_name": "Python 3",
   "language": "python",
   "name": "python3"
  },
  "language_info": {
   "codemirror_mode": {
    "name": "ipython",
    "version": 3
   },
   "file_extension": ".py",
   "mimetype": "text/x-python",
   "name": "python",
   "nbconvert_exporter": "python",
   "pygments_lexer": "ipython3",
   "version": "3.6.9"
  }
 },
 "nbformat": 4,
 "nbformat_minor": 2
}
