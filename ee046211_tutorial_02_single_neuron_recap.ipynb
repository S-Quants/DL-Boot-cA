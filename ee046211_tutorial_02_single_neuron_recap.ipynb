{
 "cells": [
  {
   "cell_type": "markdown",
   "metadata": {
    "id": "ws7NIiiATD1b",
    "slideshow": {
     "slide_type": "slide"
    }
   },
   "source": [
    "# <img src=\"./assets/course-icon.png\" style=\"height:50px;display:inline\"> EE 046211- Technion - Deep Learning\n",
    "---\n",
    "\n",
    "#### Tal Daniel\n",
    "\n",
    "## Tutorial 02 - Single Neuron"
   ]
  },
  {
   "cell_type": "markdown",
   "metadata": {
    "id": "1HM7LX6ATD1d",
    "slideshow": {
     "slide_type": "slide"
    }
   },
   "source": [
    "### <img src=\"https://img.icons8.com/bubbles/50/000000/checklist.png\" style=\"height:50px;display:inline\"> Agenda\n",
    "---\n",
    "\n",
    "* [Discriminative Models](#-Discriminative-Models)\n",
    "* [The Perceptron](#-The-Perceptron)\n",
    "* [Logistic Regression](#-Logistic-Regression)\n",
    "    * [Logistic Regression with PyTorch](#-Logistic-Regression-with-PyTorch)\n",
    "* [Multi-Class (Multinomial) Logistic Regression - Softmax Regression](#-Multi-Class-(Multinomial)-Logistic-Regression---Softmax-Regression)\n",
    "* [Activation Functions](#-Activation-Functions)\n",
    "* [Recommended Videos](#-Recommended-Videos)\n",
    "* [Credits](#-Credits)"
   ]
  },
  {
   "cell_type": "markdown",
   "metadata": {
    "id": "LedcT50PTD1e",
    "slideshow": {
     "slide_type": "skip"
    }
   },
   "source": [
    "#### <img src=\"./assets/colab_icon.PNG\" style=\"height:30px;display:inline\"> Additional Packages for Google Colab\n",
    "----\n",
    "If you are using <a href=\"https://colab.research.google.com/\">Google Colab</a>, you have to install additional packages. To do this, simply run the following cell."
   ]
  },
  {
   "cell_type": "code",
   "execution_count": 1,
   "metadata": {
    "colab": {
     "base_uri": "https://localhost:8080/"
    },
    "id": "1O-9ASIdTD1e",
    "outputId": "9e4a777b-5537-47ea-abab-5efd32eed6d1",
    "slideshow": {
     "slide_type": "skip"
    }
   },
   "outputs": [
    {
     "name": "stdout",
     "output_type": "stream",
     "text": [
      "Collecting torchviz\n",
      "\u001b[?25l  Downloading https://files.pythonhosted.org/packages/8f/8e/a9630c7786b846d08b47714dd363a051f5e37b4ea0e534460d8cdfc1644b/torchviz-0.0.1.tar.gz (41kB)\n",
      "\r",
      "\u001b[K     |████████                        | 10kB 15.6MB/s eta 0:00:01\r",
      "\u001b[K     |████████████████                | 20kB 20.8MB/s eta 0:00:01\r",
      "\u001b[K     |███████████████████████▉        | 30kB 11.4MB/s eta 0:00:01\r",
      "\u001b[K     |███████████████████████████████▉| 40kB 9.6MB/s eta 0:00:01\r",
      "\u001b[K     |████████████████████████████████| 51kB 3.7MB/s \n",
      "\u001b[?25hRequirement already satisfied: torch in /usr/local/lib/python3.6/dist-packages (from torchviz) (1.7.0+cu101)\n",
      "Requirement already satisfied: graphviz in /usr/local/lib/python3.6/dist-packages (from torchviz) (0.10.1)\n",
      "Requirement already satisfied: future in /usr/local/lib/python3.6/dist-packages (from torch->torchviz) (0.16.0)\n",
      "Requirement already satisfied: dataclasses in /usr/local/lib/python3.6/dist-packages (from torch->torchviz) (0.8)\n",
      "Requirement already satisfied: typing-extensions in /usr/local/lib/python3.6/dist-packages (from torch->torchviz) (3.7.4.3)\n",
      "Requirement already satisfied: numpy in /usr/local/lib/python3.6/dist-packages (from torch->torchviz) (1.19.5)\n",
      "Building wheels for collected packages: torchviz\n",
      "  Building wheel for torchviz (setup.py) ... \u001b[?25l\u001b[?25hdone\n",
      "  Created wheel for torchviz: filename=torchviz-0.0.1-cp36-none-any.whl size=3522 sha256=6a736ad7c5fb8745a0b4912099f190f303604fe6b847bd2e0ab2e6141c6b5828\n",
      "  Stored in directory: /root/.cache/pip/wheels/2a/c2/c5/b8b4d0f7992c735f6db5bfa3c5f354cf36502037ca2b585667\n",
      "Successfully built torchviz\n",
      "Installing collected packages: torchviz\n",
      "Successfully installed torchviz-0.0.1\n"
     ]
    }
   ],
   "source": [
    "# to work locally (win/linux/mac), first install 'graphviz': https://graphviz.org/download/ and restart your machine\n",
    "!pip install torchviz"
   ]
  },
  {
   "cell_type": "code",
   "execution_count": 2,
   "metadata": {
    "id": "Pslwr4ogTD1e",
    "slideshow": {
     "slide_type": "skip"
    }
   },
   "outputs": [],
   "source": [
    "# imports for the tutorial\n",
    "import numpy as np\n",
    "import pandas as pd\n",
    "import torch\n",
    "import torch.nn as nn\n",
    "import torchviz\n",
    "import matplotlib.pyplot as plt\n",
    "from mpl_toolkits.mplot3d import Axes3D\n",
    "from sklearn.model_selection import train_test_split\n",
    "from sklearn.linear_model import Perceptron, LogisticRegression\n",
    "from sklearn.preprocessing import StandardScaler\n",
    "# %matplotlib notebook\n",
    "%matplotlib inline"
   ]
  },
  {
   "cell_type": "markdown",
   "metadata": {
    "id": "rrVeTId5TD1f",
    "slideshow": {
     "slide_type": "slide"
    }
   },
   "source": [
    "## <img src=\"https://img.icons8.com/nolan/64/000000/categorize.png\" style=\"height:50px;display:inline\"> Discriminative Models\n",
    "---\n",
    "* **Discriminative models** are a class of models used in statistical classification, especially in supervised machine learning. A discriminative classifier tries to build a model just by depending on the observed data while learning how to do the classification from the given statistics.  \n",
    "    * Comparing with the generative models, discriminative models make fewer assumptions on the distributions but depends heavily on the quality of the data.\n",
    "    * For example, given a set of labeled pictures of dog and rabbit, discriminative models will be matching a new, unlabeled picture to a most similar labeled picture and then give out the label class, a dog or a rabbit.\n",
    "* The typical discriminative learning approaches include Logistic Regression (LR), Support Vector Machine (SVM), conditional random fields (CRFs) (specified over an undirected graph), and others."
   ]
  },
  {
   "cell_type": "markdown",
   "metadata": {
    "id": "XHOJ_WQrTD1f",
    "slideshow": {
     "slide_type": "slide"
    }
   },
   "source": [
    "### <img src=\"https://img.icons8.com/plasticine/100/000000/mind-map.png\" style=\"height:50px;display:inline\"> The Perceptron\n",
    "---\n",
    "* One of the first and simplest linear model.\n",
    "* Based on a *linear threshold unit* (LTU): the input and output are numbers (not binary values), and each connection is associated with a weight.\n",
    "* The LTU computes a weighted sum of its inputs: $z = w_1x_1 + w_2x_2 +....+w_nx_n = w^Tx$, and then it applies a **step function** to that sum and outputs the result: $$ h_w(x) = step(z) = step(w^Tx) $$\n"
   ]
  },
  {
   "cell_type": "markdown",
   "metadata": {
    "id": "3CdUq31wTD1f",
    "slideshow": {
     "slide_type": "subslide"
    }
   },
   "source": [
    "* Illustration: <img src=\"./assets/perceptron.jpg\" style=\"height:200px\">\n",
    "* The most common step function used is the *Heaviside step function* but sometimes the *sign function* is used (as is the illustration)."
   ]
  },
  {
   "cell_type": "markdown",
   "metadata": {
    "id": "nJfMnoAMTD1g",
    "slideshow": {
     "slide_type": "subslide"
    }
   },
   "source": [
    "* **Perceptron Training** draws inspiration from biological neurons: the connection weight between two neurons is increased whenever they have **the same output**. Perceptrons are trained by considering the error made.\n",
    "    * At each iteration, the Perceptron is fed with one training instance and makes a prediction for it.\n",
    "    * For every output that produced a wrong prediction, it reinforces the connection weights from the inputs that would have contributed to the correct prediction.\n",
    "    * Criterion: $ E^{perc}(w) = - \\sum_{i \\in D_{miss}}w^T(x^iy^i) $\n",
    "* **Perceptron Learning Rule (weight update)**: $$ w_{t+1} = w_t +\\eta(y_i -sign(w_t^Tx_i))x_i $$\n",
    "    * $\\eta$ is the learing rate\n",
    "* The decision boundary learned is linear, the Perceptron is incapable of learning complex patterns."
   ]
  },
  {
   "cell_type": "markdown",
   "metadata": {
    "id": "qti-1OD6TD1g",
    "slideshow": {
     "slide_type": "subslide"
    }
   },
   "source": [
    "* **Perceptron Convergence Theorem**: If the training instances are **linearly seperable**, the algorithm would converge to a solution.\n",
    "    * **There can be multiple solutions (multiple hyperplanes)**\n",
    "* Perceptrons do not output a class probability, they just make predicitons based on a **hard threshold**."
   ]
  },
  {
   "cell_type": "code",
   "execution_count": 4,
   "metadata": {
    "colab": {
     "base_uri": "https://localhost:8080/",
     "height": 380
    },
    "id": "RcEnElbETD1g",
    "outputId": "d7f9afa5-fc91-45d9-b5bc-2a0d7ba62ad3",
    "slideshow": {
     "slide_type": "slide"
    }
   },
   "outputs": [
    {
     "data": {
      "text/html": [
       "<div>\n",
       "<style scoped>\n",
       "    .dataframe tbody tr th:only-of-type {\n",
       "        vertical-align: middle;\n",
       "    }\n",
       "\n",
       "    .dataframe tbody tr th {\n",
       "        vertical-align: top;\n",
       "    }\n",
       "\n",
       "    .dataframe thead th {\n",
       "        text-align: right;\n",
       "    }\n",
       "</style>\n",
       "<table border=\"1\" class=\"dataframe\">\n",
       "  <thead>\n",
       "    <tr style=\"text-align: right;\">\n",
       "      <th></th>\n",
       "      <th>id</th>\n",
       "      <th>diagnosis</th>\n",
       "      <th>radius_mean</th>\n",
       "      <th>texture_mean</th>\n",
       "      <th>perimeter_mean</th>\n",
       "      <th>area_mean</th>\n",
       "      <th>smoothness_mean</th>\n",
       "      <th>compactness_mean</th>\n",
       "      <th>concavity_mean</th>\n",
       "      <th>concave points_mean</th>\n",
       "      <th>symmetry_mean</th>\n",
       "      <th>fractal_dimension_mean</th>\n",
       "      <th>radius_se</th>\n",
       "      <th>texture_se</th>\n",
       "      <th>perimeter_se</th>\n",
       "      <th>area_se</th>\n",
       "      <th>smoothness_se</th>\n",
       "      <th>compactness_se</th>\n",
       "      <th>concavity_se</th>\n",
       "      <th>concave points_se</th>\n",
       "      <th>symmetry_se</th>\n",
       "      <th>fractal_dimension_se</th>\n",
       "      <th>radius_worst</th>\n",
       "      <th>texture_worst</th>\n",
       "      <th>perimeter_worst</th>\n",
       "      <th>area_worst</th>\n",
       "      <th>smoothness_worst</th>\n",
       "      <th>compactness_worst</th>\n",
       "      <th>concavity_worst</th>\n",
       "      <th>concave points_worst</th>\n",
       "      <th>symmetry_worst</th>\n",
       "      <th>fractal_dimension_worst</th>\n",
       "      <th>Unnamed: 32</th>\n",
       "    </tr>\n",
       "  </thead>\n",
       "  <tbody>\n",
       "    <tr>\n",
       "      <th>445</th>\n",
       "      <td>9110720</td>\n",
       "      <td>B</td>\n",
       "      <td>11.99</td>\n",
       "      <td>24.89</td>\n",
       "      <td>77.61</td>\n",
       "      <td>441.3</td>\n",
       "      <td>0.10300</td>\n",
       "      <td>0.09218</td>\n",
       "      <td>0.05441</td>\n",
       "      <td>0.04274</td>\n",
       "      <td>0.1820</td>\n",
       "      <td>0.06850</td>\n",
       "      <td>0.2623</td>\n",
       "      <td>1.2040</td>\n",
       "      <td>1.865</td>\n",
       "      <td>19.39</td>\n",
       "      <td>0.008320</td>\n",
       "      <td>0.02025</td>\n",
       "      <td>0.02334</td>\n",
       "      <td>0.016650</td>\n",
       "      <td>0.02094</td>\n",
       "      <td>0.003674</td>\n",
       "      <td>12.98</td>\n",
       "      <td>30.36</td>\n",
       "      <td>84.48</td>\n",
       "      <td>513.9</td>\n",
       "      <td>0.1311</td>\n",
       "      <td>0.18220</td>\n",
       "      <td>0.1609</td>\n",
       "      <td>0.12020</td>\n",
       "      <td>0.2599</td>\n",
       "      <td>0.08251</td>\n",
       "      <td>NaN</td>\n",
       "    </tr>\n",
       "    <tr>\n",
       "      <th>155</th>\n",
       "      <td>8711003</td>\n",
       "      <td>B</td>\n",
       "      <td>12.25</td>\n",
       "      <td>17.94</td>\n",
       "      <td>78.27</td>\n",
       "      <td>460.3</td>\n",
       "      <td>0.08654</td>\n",
       "      <td>0.06679</td>\n",
       "      <td>0.03885</td>\n",
       "      <td>0.02331</td>\n",
       "      <td>0.1970</td>\n",
       "      <td>0.06228</td>\n",
       "      <td>0.2200</td>\n",
       "      <td>0.9823</td>\n",
       "      <td>1.484</td>\n",
       "      <td>16.51</td>\n",
       "      <td>0.005518</td>\n",
       "      <td>0.01562</td>\n",
       "      <td>0.01994</td>\n",
       "      <td>0.007924</td>\n",
       "      <td>0.01799</td>\n",
       "      <td>0.002484</td>\n",
       "      <td>13.59</td>\n",
       "      <td>25.22</td>\n",
       "      <td>86.60</td>\n",
       "      <td>564.2</td>\n",
       "      <td>0.1217</td>\n",
       "      <td>0.17880</td>\n",
       "      <td>0.1943</td>\n",
       "      <td>0.08211</td>\n",
       "      <td>0.3113</td>\n",
       "      <td>0.08132</td>\n",
       "      <td>NaN</td>\n",
       "    </tr>\n",
       "    <tr>\n",
       "      <th>545</th>\n",
       "      <td>922576</td>\n",
       "      <td>B</td>\n",
       "      <td>13.62</td>\n",
       "      <td>23.23</td>\n",
       "      <td>87.19</td>\n",
       "      <td>573.2</td>\n",
       "      <td>0.09246</td>\n",
       "      <td>0.06747</td>\n",
       "      <td>0.02974</td>\n",
       "      <td>0.02443</td>\n",
       "      <td>0.1664</td>\n",
       "      <td>0.05801</td>\n",
       "      <td>0.3460</td>\n",
       "      <td>1.3360</td>\n",
       "      <td>2.066</td>\n",
       "      <td>31.24</td>\n",
       "      <td>0.005868</td>\n",
       "      <td>0.02099</td>\n",
       "      <td>0.02021</td>\n",
       "      <td>0.009064</td>\n",
       "      <td>0.02087</td>\n",
       "      <td>0.002583</td>\n",
       "      <td>15.35</td>\n",
       "      <td>29.09</td>\n",
       "      <td>97.58</td>\n",
       "      <td>729.8</td>\n",
       "      <td>0.1216</td>\n",
       "      <td>0.15170</td>\n",
       "      <td>0.1049</td>\n",
       "      <td>0.07174</td>\n",
       "      <td>0.2642</td>\n",
       "      <td>0.06953</td>\n",
       "      <td>NaN</td>\n",
       "    </tr>\n",
       "    <tr>\n",
       "      <th>529</th>\n",
       "      <td>918465</td>\n",
       "      <td>B</td>\n",
       "      <td>12.07</td>\n",
       "      <td>13.44</td>\n",
       "      <td>77.83</td>\n",
       "      <td>445.2</td>\n",
       "      <td>0.11000</td>\n",
       "      <td>0.09009</td>\n",
       "      <td>0.03781</td>\n",
       "      <td>0.02798</td>\n",
       "      <td>0.1657</td>\n",
       "      <td>0.06608</td>\n",
       "      <td>0.2513</td>\n",
       "      <td>0.5040</td>\n",
       "      <td>1.714</td>\n",
       "      <td>18.54</td>\n",
       "      <td>0.007327</td>\n",
       "      <td>0.01153</td>\n",
       "      <td>0.01798</td>\n",
       "      <td>0.007986</td>\n",
       "      <td>0.01962</td>\n",
       "      <td>0.002234</td>\n",
       "      <td>13.45</td>\n",
       "      <td>15.77</td>\n",
       "      <td>86.92</td>\n",
       "      <td>549.9</td>\n",
       "      <td>0.1521</td>\n",
       "      <td>0.16320</td>\n",
       "      <td>0.1622</td>\n",
       "      <td>0.07393</td>\n",
       "      <td>0.2781</td>\n",
       "      <td>0.08052</td>\n",
       "      <td>NaN</td>\n",
       "    </tr>\n",
       "    <tr>\n",
       "      <th>469</th>\n",
       "      <td>911366</td>\n",
       "      <td>B</td>\n",
       "      <td>11.62</td>\n",
       "      <td>18.18</td>\n",
       "      <td>76.38</td>\n",
       "      <td>408.8</td>\n",
       "      <td>0.11750</td>\n",
       "      <td>0.14830</td>\n",
       "      <td>0.10200</td>\n",
       "      <td>0.05564</td>\n",
       "      <td>0.1957</td>\n",
       "      <td>0.07255</td>\n",
       "      <td>0.4101</td>\n",
       "      <td>1.7400</td>\n",
       "      <td>3.027</td>\n",
       "      <td>27.85</td>\n",
       "      <td>0.014590</td>\n",
       "      <td>0.03206</td>\n",
       "      <td>0.04961</td>\n",
       "      <td>0.018410</td>\n",
       "      <td>0.01807</td>\n",
       "      <td>0.005217</td>\n",
       "      <td>13.36</td>\n",
       "      <td>25.40</td>\n",
       "      <td>88.14</td>\n",
       "      <td>528.1</td>\n",
       "      <td>0.1780</td>\n",
       "      <td>0.28780</td>\n",
       "      <td>0.3186</td>\n",
       "      <td>0.14160</td>\n",
       "      <td>0.2660</td>\n",
       "      <td>0.09270</td>\n",
       "      <td>NaN</td>\n",
       "    </tr>\n",
       "    <tr>\n",
       "      <th>84</th>\n",
       "      <td>8612080</td>\n",
       "      <td>B</td>\n",
       "      <td>12.00</td>\n",
       "      <td>15.65</td>\n",
       "      <td>76.95</td>\n",
       "      <td>443.3</td>\n",
       "      <td>0.09723</td>\n",
       "      <td>0.07165</td>\n",
       "      <td>0.04151</td>\n",
       "      <td>0.01863</td>\n",
       "      <td>0.2079</td>\n",
       "      <td>0.05968</td>\n",
       "      <td>0.2271</td>\n",
       "      <td>1.2550</td>\n",
       "      <td>1.441</td>\n",
       "      <td>16.16</td>\n",
       "      <td>0.005969</td>\n",
       "      <td>0.01812</td>\n",
       "      <td>0.02007</td>\n",
       "      <td>0.007027</td>\n",
       "      <td>0.01972</td>\n",
       "      <td>0.002607</td>\n",
       "      <td>13.67</td>\n",
       "      <td>24.90</td>\n",
       "      <td>87.78</td>\n",
       "      <td>567.9</td>\n",
       "      <td>0.1377</td>\n",
       "      <td>0.20030</td>\n",
       "      <td>0.2267</td>\n",
       "      <td>0.07632</td>\n",
       "      <td>0.3379</td>\n",
       "      <td>0.07924</td>\n",
       "      <td>NaN</td>\n",
       "    </tr>\n",
       "    <tr>\n",
       "      <th>297</th>\n",
       "      <td>892189</td>\n",
       "      <td>M</td>\n",
       "      <td>11.76</td>\n",
       "      <td>18.14</td>\n",
       "      <td>75.00</td>\n",
       "      <td>431.1</td>\n",
       "      <td>0.09968</td>\n",
       "      <td>0.05914</td>\n",
       "      <td>0.02685</td>\n",
       "      <td>0.03515</td>\n",
       "      <td>0.1619</td>\n",
       "      <td>0.06287</td>\n",
       "      <td>0.6450</td>\n",
       "      <td>2.1050</td>\n",
       "      <td>4.138</td>\n",
       "      <td>49.11</td>\n",
       "      <td>0.005596</td>\n",
       "      <td>0.01005</td>\n",
       "      <td>0.01272</td>\n",
       "      <td>0.014320</td>\n",
       "      <td>0.01575</td>\n",
       "      <td>0.002758</td>\n",
       "      <td>13.36</td>\n",
       "      <td>23.39</td>\n",
       "      <td>85.10</td>\n",
       "      <td>553.6</td>\n",
       "      <td>0.1137</td>\n",
       "      <td>0.07974</td>\n",
       "      <td>0.0612</td>\n",
       "      <td>0.07160</td>\n",
       "      <td>0.1978</td>\n",
       "      <td>0.06915</td>\n",
       "      <td>NaN</td>\n",
       "    </tr>\n",
       "    <tr>\n",
       "      <th>0</th>\n",
       "      <td>842302</td>\n",
       "      <td>M</td>\n",
       "      <td>17.99</td>\n",
       "      <td>10.38</td>\n",
       "      <td>122.80</td>\n",
       "      <td>1001.0</td>\n",
       "      <td>0.11840</td>\n",
       "      <td>0.27760</td>\n",
       "      <td>0.30010</td>\n",
       "      <td>0.14710</td>\n",
       "      <td>0.2419</td>\n",
       "      <td>0.07871</td>\n",
       "      <td>1.0950</td>\n",
       "      <td>0.9053</td>\n",
       "      <td>8.589</td>\n",
       "      <td>153.40</td>\n",
       "      <td>0.006399</td>\n",
       "      <td>0.04904</td>\n",
       "      <td>0.05373</td>\n",
       "      <td>0.015870</td>\n",
       "      <td>0.03003</td>\n",
       "      <td>0.006193</td>\n",
       "      <td>25.38</td>\n",
       "      <td>17.33</td>\n",
       "      <td>184.60</td>\n",
       "      <td>2019.0</td>\n",
       "      <td>0.1622</td>\n",
       "      <td>0.66560</td>\n",
       "      <td>0.7119</td>\n",
       "      <td>0.26540</td>\n",
       "      <td>0.4601</td>\n",
       "      <td>0.11890</td>\n",
       "      <td>NaN</td>\n",
       "    </tr>\n",
       "    <tr>\n",
       "      <th>258</th>\n",
       "      <td>887181</td>\n",
       "      <td>M</td>\n",
       "      <td>15.66</td>\n",
       "      <td>23.20</td>\n",
       "      <td>110.20</td>\n",
       "      <td>773.5</td>\n",
       "      <td>0.11090</td>\n",
       "      <td>0.31140</td>\n",
       "      <td>0.31760</td>\n",
       "      <td>0.13770</td>\n",
       "      <td>0.2495</td>\n",
       "      <td>0.08104</td>\n",
       "      <td>1.2920</td>\n",
       "      <td>2.4540</td>\n",
       "      <td>10.120</td>\n",
       "      <td>138.50</td>\n",
       "      <td>0.012360</td>\n",
       "      <td>0.05995</td>\n",
       "      <td>0.08232</td>\n",
       "      <td>0.030240</td>\n",
       "      <td>0.02337</td>\n",
       "      <td>0.006042</td>\n",
       "      <td>19.85</td>\n",
       "      <td>31.64</td>\n",
       "      <td>143.70</td>\n",
       "      <td>1226.0</td>\n",
       "      <td>0.1504</td>\n",
       "      <td>0.51720</td>\n",
       "      <td>0.6181</td>\n",
       "      <td>0.24620</td>\n",
       "      <td>0.3277</td>\n",
       "      <td>0.10190</td>\n",
       "      <td>NaN</td>\n",
       "    </tr>\n",
       "    <tr>\n",
       "      <th>182</th>\n",
       "      <td>873701</td>\n",
       "      <td>M</td>\n",
       "      <td>15.70</td>\n",
       "      <td>20.31</td>\n",
       "      <td>101.20</td>\n",
       "      <td>766.6</td>\n",
       "      <td>0.09597</td>\n",
       "      <td>0.08799</td>\n",
       "      <td>0.06593</td>\n",
       "      <td>0.05189</td>\n",
       "      <td>0.1618</td>\n",
       "      <td>0.05549</td>\n",
       "      <td>0.3699</td>\n",
       "      <td>1.1500</td>\n",
       "      <td>2.406</td>\n",
       "      <td>40.98</td>\n",
       "      <td>0.004626</td>\n",
       "      <td>0.02263</td>\n",
       "      <td>0.01954</td>\n",
       "      <td>0.009767</td>\n",
       "      <td>0.01547</td>\n",
       "      <td>0.002430</td>\n",
       "      <td>20.11</td>\n",
       "      <td>32.82</td>\n",
       "      <td>129.30</td>\n",
       "      <td>1269.0</td>\n",
       "      <td>0.1414</td>\n",
       "      <td>0.35470</td>\n",
       "      <td>0.2902</td>\n",
       "      <td>0.15410</td>\n",
       "      <td>0.3437</td>\n",
       "      <td>0.08631</td>\n",
       "      <td>NaN</td>\n",
       "    </tr>\n",
       "  </tbody>\n",
       "</table>\n",
       "</div>"
      ],
      "text/plain": [
       "          id diagnosis  ...  fractal_dimension_worst  Unnamed: 32\n",
       "445  9110720         B  ...                  0.08251          NaN\n",
       "155  8711003         B  ...                  0.08132          NaN\n",
       "545   922576         B  ...                  0.06953          NaN\n",
       "529   918465         B  ...                  0.08052          NaN\n",
       "469   911366         B  ...                  0.09270          NaN\n",
       "84   8612080         B  ...                  0.07924          NaN\n",
       "297   892189         M  ...                  0.06915          NaN\n",
       "0     842302         M  ...                  0.11890          NaN\n",
       "258   887181         M  ...                  0.10190          NaN\n",
       "182   873701         M  ...                  0.08631          NaN\n",
       "\n",
       "[10 rows x 33 columns]"
      ]
     },
     "execution_count": 4,
     "metadata": {
      "tags": []
     },
     "output_type": "execute_result"
    }
   ],
   "source": [
    "# let's load the cancer dataset, shuffle it and  speratre into train and test set\n",
    "dataset = pd.read_csv('./datasets/cancer_dataset.csv')\n",
    "# print the number of rows in the data set\n",
    "number_of_rows = len(dataset)\n",
    "num_train = int(0.8 * number_of_rows)\n",
    "# reminder, the data looks like this\n",
    "dataset.sample(10)"
   ]
  },
  {
   "cell_type": "code",
   "execution_count": 5,
   "metadata": {
    "colab": {
     "base_uri": "https://localhost:8080/"
    },
    "id": "lZLemcOrTD1h",
    "outputId": "e4a6d0ee-7691-42f4-c526-c9a2c0b2c0c7",
    "slideshow": {
     "slide_type": "slide"
    }
   },
   "outputs": [
    {
     "name": "stdout",
     "output_type": "stream",
     "text": [
      "total training samples: 455, total test samples: 114\n"
     ]
    }
   ],
   "source": [
    "# we will take the first 2 features as our data (X) and the diagnosis as labels (y)\n",
    "x = dataset[['radius_mean', 'texture_mean']].values\n",
    "y = dataset['diagnosis'].values == 'M'  # 1 for Malignat, 0 for Benign\n",
    "# shuffle\n",
    "rand_gen = np.random.RandomState(0)\n",
    "shuffled_indices = rand_gen.permutation(np.arange(len(x)))\n",
    "\n",
    "x_train = x[shuffled_indices[:num_train]]\n",
    "y_train = y[shuffled_indices[:num_train]]\n",
    "x_test = x[shuffled_indices[num_train:]]\n",
    "y_test = y[shuffled_indices[num_train:]]\n",
    "\n",
    "print(\"total training samples: {}, total test samples: {}\".format(num_train, number_of_rows - num_train))"
   ]
  },
  {
   "cell_type": "code",
   "execution_count": null,
   "metadata": {
    "id": "FJ63i3NgTD1h",
    "outputId": "e73c7e1c-0e26-40b6-eed4-acde82a254a0",
    "slideshow": {
     "slide_type": "subslide"
    }
   },
   "outputs": [
    {
     "name": "stdout",
     "output_type": "stream",
     "text": [
      "perceptron accuracy: 71.930 %\n"
     ]
    }
   ],
   "source": [
    "# perceptron using Scikit-Learn\n",
    "per_clf = Perceptron(max_iter=1000)\n",
    "per_clf.fit(x_train, y_train)\n",
    "y_pred = per_clf.predict(x_test)\n",
    "accuracy = np.sum(y_pred == y_test) / len(y_test)\n",
    "print(\"perceptron accuracy: {:.3f} %\".format(accuracy * 100))\n",
    "w = (per_clf.coef_).reshape(-1,)\n",
    "b = (per_clf.intercept_).reshape(-1,)\n",
    "boundary = (-b -w[0] * x_train[:, 0]) / w[1] "
   ]
  },
  {
   "cell_type": "code",
   "execution_count": null,
   "metadata": {
    "id": "oKqXmJlLTD1h",
    "slideshow": {
     "slide_type": "skip"
    }
   },
   "outputs": [],
   "source": [
    "def plot_perceptron_result():\n",
    "    fig = plt.figure(figsize=(10, 8))\n",
    "    ax = fig.add_subplot(1,1,1)\n",
    "    ax.scatter(x_train[y_train,0], x_train[y_train, 1], color='r', label=\"M, train\", alpha=0.5)\n",
    "    ax.scatter(x_train[~y_train,0], x_train[~y_train, 1], color='b', label=\"B, train\", alpha=0.5)\n",
    "    ax.scatter(x_test[y_test,0], x_test[y_test, 1], color='r', label=\"M, test\", alpha=1)\n",
    "    ax.scatter(x_test[~y_test,0], x_test[~y_test, 1], color='b', label=\"B, test\", alpha=1)\n",
    "    ax.plot(x_train[:,0], boundary, label=\"decision boundary\", color='g')\n",
    "    ax.legend()\n",
    "    ax.grid()\n",
    "    ax.set_ylim([5, 40])\n",
    "    ax.set_xlabel(\"radius_mean\")\n",
    "    ax.set_ylabel(\"texture_mean\")\n",
    "    ax.set_title(\"texture_mean vs. radius_mean\")"
   ]
  },
  {
   "cell_type": "code",
   "execution_count": null,
   "metadata": {
    "id": "Axek1oI8TD1i",
    "outputId": "5d5f8c0e-f59c-4f63-8c70-4a65c01ff89c",
    "scrolled": false,
    "slideshow": {
     "slide_type": "subslide"
    }
   },
   "outputs": [
    {
     "data": {
      "image/png": "[encoded data removed]",
      "text/plain": [
       "<Figure size 720x576 with 1 Axes>"
      ]
     },
     "metadata": {
      "needs_background": "light",
      "tags": []
     },
     "output_type": "display_data"
    }
   ],
   "source": [
    "# plot\n",
    "plot_perceptron_result()"
   ]
  },
  {
   "cell_type": "markdown",
   "metadata": {
    "id": "Ho1haAExTD1i",
    "slideshow": {
     "slide_type": "slide"
    }
   },
   "source": [
    "### <img src=\"https://img.icons8.com/dusk/64/000000/cheap-2.png\" style=\"height:50px;display:inline\"> MLE with Bernoulli Assumption\n",
    "---\n",
    "* Recall that there is a connection between maximum likelihood estimation (MLE) and linear regression when we assume that the data can be created as follows: $y=\\theta^Tx + \\epsilon$, where $\\epsilon \\sim \\mathcal{N}(0, \\sigma^2)$.\n",
    "    * In this case, minimizing the negative log-likelihood (NLL): $-\\log P(y|x;\\theta)$ results in the MSE error $(y-\\theta^Tx)^2$, and minimizing the NLL is the same as maximizing $\\log P(y|x;\\theta)$, which is exactly the MLE!\n",
    "* When we assume that the data is created in a different way, we get different loss functions, as we will now demonstrate. But the idea is the same -- maximizing the log-likelihood (MLE) = minimizing the negative log-likelihood (NLL).\n",
    "* The *Sigmoid* function (also the Logistic Function): $$ \\sigma(x) = \\frac{1}{1+e^{-x}} = \\frac{e^x}{1+e^x} $$\n",
    "    * The output is in $[0,1]$, which is exactly what we need to model a probability distribution.\n",
    "* We assume that: $$ P(y|x,\\theta) = Bern(y|\\sigma(\\theta^Tx)) $$\n",
    "    * Bernoulli Distribution (coin flip): $$ P(y) = p^y(1-p)^{1-y} $$\n",
    "    * $p = \\sigma(\\theta^Tx) \\in [0,1]$\n",
    "* We will use the following notations: $$P(y_i|x_i, w) = \\begin{cases}\n",
    "    \\pi_{i1} = \\sigma(w^Tx) =  \\frac{1}{1+e^{-x}}     & \\quad \\text{if } y_i=1 \\\\\n",
    "    \\pi_{i0} = 1 -  \\sigma(w^Tx) = 1 -  \\frac{1}{1+e^{-x}}    & \\quad \\text{if } y_i = 0  \n",
    "  \\end{cases} $$"
   ]
  },
  {
   "cell_type": "code",
   "execution_count": null,
   "metadata": {
    "id": "rB2JSPbiTD1j",
    "slideshow": {
     "slide_type": "slide"
    }
   },
   "outputs": [],
   "source": [
    "# let's see the sigmoid function\n",
    "def sigmoid(x):\n",
    "    return 1 / (1 + np.exp(-x))\n",
    "\n",
    "x = np.linspace(-5, 5, 1000)\n",
    "sig_x = sigmoid(x)"
   ]
  },
  {
   "cell_type": "code",
   "execution_count": null,
   "metadata": {
    "id": "FyelZ9cOTD1j",
    "outputId": "f0f5af02-45ef-4947-b708-ae01d73de8d3",
    "slideshow": {
     "slide_type": "subslide"
    }
   },
   "outputs": [
    {
     "data": {
      "text/plain": [
       "Text(0, 0.5, 'sigmoid(x)')"
      ]
     },
     "execution_count": 41,
     "metadata": {
      "tags": []
     },
     "output_type": "execute_result"
    },
    {
     "data": {
      "image/png": "[encoded data removed]",
      "text/plain": [
       "<Figure size 576x360 with 1 Axes>"
      ]
     },
     "metadata": {
      "needs_background": "light",
      "tags": []
     },
     "output_type": "display_data"
    }
   ],
   "source": [
    "# plot\n",
    "fig = plt.figure(figsize=(8,5))\n",
    "ax = fig.add_subplot(111)\n",
    "ax.plot(x, sig_x)\n",
    "ax.grid()\n",
    "ax.set_title(\"The Sigmoid Function\")\n",
    "ax.set_xlabel(\"x\")\n",
    "ax.set_ylabel(\"sigmoid(x)\")"
   ]
  },
  {
   "cell_type": "markdown",
   "metadata": {
    "id": "6JWfaOsRTD1j",
    "slideshow": {
     "slide_type": "slide"
    }
   },
   "source": [
    "### <img src=\"https://img.icons8.com/cotton/64/000000/combo-chart.png\" style=\"height:50px;display:inline\"> Logistic Regression\n",
    "---\n",
    "* Some regression algorithms can be used for **classification** as well.\n",
    "* *Logistic Regression* is commonly used to **estimate the probability** that an instance belongs to a particular class.\n",
    "    * Typically, if the estimated proabibility is greater than 50%, then the model predicts that the instance belongs to that class (called the positive class, labeled \"1\"), or else it predicts that it does not - a binary classifier.\n",
    "* **Estimating Probabilities** - Similarly to *Linear Regression*, a Logistic Regression model computes a weighted sum of the input features (plus a bias term), but unlike Linear Regression, it outputs the **logistic** of the weighted sum - $\\sigma(w^Tx)$, which is a number between 0 and 1."
   ]
  },
  {
   "cell_type": "markdown",
   "metadata": {
    "id": "MqcWxurYTD1j",
    "slideshow": {
     "slide_type": "subslide"
    }
   },
   "source": [
    "#### Training and Cost Function\n",
    "---\n",
    "* The objective of training is to set the parameter vector $\\theta$ (or $w$) so that the model estimates high probabilities for positive instances ($y=1$) and low probabilities for negative instances ($y=0$)\n",
    "* Expanding the expression using the negative log-likelihood (NLL): \n",
    "    $$ P(y|x,\\theta) = Bern(y|\\sigma(\\theta^Tx)) \\rightarrow NLL(\\theta) = -\\frac{1}{m}\\sum_{i=1}^m \\log \\sigma(\\theta^Tx_i)^{y_i}(1-\\sigma(\\theta^Tx_i))^{1-y_i} =- \\frac{1}{m} \\sum_{i=1}^m\\log\\pi_{i1}^{y_i}\\pi_{i0}^{1-y_i} $$\n",
    "    $$ =  -\\frac{1}{m} \\sum_{i=1}^m \\left[y_i\\log\\pi_{i1} + (1-y_i)\\log\\pi_{i0} \\right]$$"
   ]
  },
  {
   "cell_type": "markdown",
   "metadata": {
    "id": "o1UPe7nfTD1k",
    "slideshow": {
     "slide_type": "subslide"
    }
   },
   "source": [
    "* This yields **the Logistic Regression cost function (log loss)**: $$ J(\\theta) = -\\frac{1}{m} \\sum_{i=1}^m \\big[ y_i\\log \\pi_{i1} + (1-y_i)\\log \\pi_{i0} \\big] = -\\frac{1}{m} \\sum_{i=1}^m \\big[ y_i\\log \\pi_{i1} + (1-y_i)\\log (1 - \\pi_{i1}) \\big] $$\n",
    "    * Intuition: $-\\log(t)$ grows very large when $t$ approaches 0, so the cost will be large if the model estimates a probability close to 0 for a **positive instance**, and it will also be very large if the estimated probability is close to 1 for a **negative instance**. On the other hand, $-log(t)$ is close to 0 when $t$ is close to 1, so the cost will be close to 0 if the estimated probability is close to 0 for a **negative instance** or close to 1 for a **positive instance**.\n",
    "    * This expression is also called the **binary cross-entropy (BCE)** loss.\n",
    "    * The cost function in the case of *Logistic Regression* is **convex**."
   ]
  },
  {
   "cell_type": "markdown",
   "metadata": {
    "id": "jrukBjrYTD1k",
    "slideshow": {
     "slide_type": "subslide"
    }
   },
   "source": [
    "* **Logistic cost function derivatives**: $$ \\frac{\\partial}{\\partial \\theta_j}J(\\theta) = \\frac{1}{m}\\sum_{i=1}^m \\big( \\sigma(\\theta^Tx^{i}) - y_i \\big) x_j^{i} $$\n",
    "    * No closed-form solution.\n",
    "    * Thanks to the convexity of the cost function (for the case of Logistic Regression), we can use **Gradient Descent** (or SGD, Mini-Batch GD)."
   ]
  },
  {
   "cell_type": "code",
   "execution_count": null,
   "metadata": {
    "id": "eZHB4a4yTD1k",
    "slideshow": {
     "slide_type": "skip"
    }
   },
   "outputs": [],
   "source": [
    "def plot_lr_boundary(x_train, x_test, y_train, y_test, boundary):\n",
    "    fig = plt.figure(figsize=(8, 5))\n",
    "    ax = fig.add_subplot(1,1,1)\n",
    "    ax.scatter(x_train[y_train,0], x_train[y_train, 1], color='r', label=\"M, train\", alpha=0.5)\n",
    "    ax.scatter(x_train[~y_train,0], x_train[~y_train, 1], color='b', label=\"B, train\", alpha=0.5)\n",
    "    ax.scatter(x_test[y_test,0], x_test[y_test, 1], color='r', label=\"M, test\", alpha=1)\n",
    "    ax.scatter(x_test[~y_test,0], x_test[~y_test, 1], color='b', label=\"B, test\", alpha=1)\n",
    "    ax.plot(x_train[:,0], boundary, label=\"decision boundary\", color='g')\n",
    "    ax.legend()\n",
    "    ax.grid()\n",
    "    ax.set_ylim([5, 40])\n",
    "    ax.set_xlabel(\"radius_mean\")\n",
    "    ax.set_ylabel(\"texture_mean\")\n",
    "    ax.set_title(\"texture_mean vs. radius_mean\")"
   ]
  },
  {
   "cell_type": "code",
   "execution_count": null,
   "metadata": {
    "id": "182fuqu7TD1l",
    "outputId": "a8a004fc-d0f2-466a-b6c3-ad8ec3a49f18",
    "slideshow": {
     "slide_type": "subslide"
    }
   },
   "outputs": [
    {
     "name": "stdout",
     "output_type": "stream",
     "text": [
      "Logistic Regression accuracy: 90.351 %\n"
     ]
    }
   ],
   "source": [
    "# logistic regression with scikit-learn\n",
    "log_reg = LogisticRegression(solver='lbfgs')\n",
    "log_reg.fit(x_train, y_train)\n",
    "y_pred = log_reg.predict(x_test)\n",
    "accuracy = np.sum(y_pred == y_test) / len(y_test)\n",
    "print(\"Logistic Regression accuracy: {:.3f} %\".format(accuracy * 100))\n",
    "w = (log_reg.coef_).reshape(-1,)\n",
    "b = (log_reg.intercept_).reshape(-1,)\n",
    "boundary = (-b -w[0] * x_train[:, 0]) / w[1] "
   ]
  },
  {
   "cell_type": "code",
   "execution_count": null,
   "metadata": {
    "id": "fqScvG9TTD1l",
    "outputId": "35add6eb-c3b4-4f06-f148-eb18d7732f26",
    "scrolled": false,
    "slideshow": {
     "slide_type": "subslide"
    }
   },
   "outputs": [
    {
     "data": {
      "image/png": "[encoded data removed]",
      "text/plain": [
       "<Figure size 576x360 with 1 Axes>"
      ]
     },
     "metadata": {
      "needs_background": "light",
      "tags": []
     },
     "output_type": "display_data"
    }
   ],
   "source": [
    "# plot\n",
    "plot_lr_boundary(x_train, x_test, y_train, y_test, boundary)"
   ]
  },
  {
   "cell_type": "markdown",
   "metadata": {
    "id": "u-HhhoBxTD1l",
    "slideshow": {
     "slide_type": "slide"
    }
   },
   "source": [
    "### <img src=\"https://img.icons8.com/color/96/000000/firestorm.png\" style=\"height:50px;display:inline\"> Logistic Regression with PyTorch\n",
    "---\n",
    "* We will now get familiar with building neural networks with PyTorch.\n",
    "* All neural network models inherit from a parent class `nn.Module`. The user must implement the `__init__()` and `__forward()__` methods.\n",
    "* In `__init__()` we initialize the parameters of the neural networks, e.g., number of parameters (such as number of hidden units/layers, type of layers and etc...)\n",
    "* In `__forward()__` we implement the forward pass of the network, i.e., what happens to the input.\n",
    "    * For example, if in `__init__()` you defined a linear layer and a ReLU activation, then in `__forward()__` you will define that the input goes first into the linear layer and then into the activation."
   ]
  },
  {
   "cell_type": "code",
   "execution_count": 6,
   "metadata": {
    "id": "Cfuod-TtTD1l",
    "slideshow": {
     "slide_type": "slide"
    }
   },
   "outputs": [],
   "source": [
    "# define our simple single neuron network\n",
    "class SingleNeuron(nn.Module):\n",
    "    # notice that we inherit from nn.Module\n",
    "    def __init__(self, input_dim):\n",
    "        super(SingleNeuron, self).__init__()\n",
    "        # here we initialize the building blocks of our network\n",
    "        # single neuron is just one linear (fully-connected) layer\n",
    "        self.fc = nn.Linear(input_dim, 1) \n",
    "        # non-linearity: the sigmoid function for binary classification\n",
    "        self.sigmoid = nn.Sigmoid()\n",
    "\n",
    "    def forward(self, x):\n",
    "        # here we define what happens to the input x in the forward pass\n",
    "        # that is, the order in which x goes through the building blocks\n",
    "        # in our case, x first goes through the signle neuron and then activated with sigmoid\n",
    "        return self.sigmoid(self.fc(x))"
   ]
  },
  {
   "cell_type": "markdown",
   "metadata": {
    "id": "2TG7ywsPTD1n",
    "slideshow": {
     "slide_type": "subslide"
    }
   },
   "source": [
    "* Okay, so we have our network, now we need to train it.\n",
    "* We need to define how to optimize the weights and other hyper-parameters, such as number of epochs."
   ]
  },
  {
   "cell_type": "code",
   "execution_count": 7,
   "metadata": {
    "id": "-OS_6OIsTD1n",
    "slideshow": {
     "slide_type": "subslide"
    }
   },
   "outputs": [],
   "source": [
    "# define the device we are going to run calculations on (cpu or gpu)\n",
    "device = torch.device(\"cuda:0\" if torch.cuda.is_available() else \"cpu\")\n",
    "# create an instance of our model and send it to the device\n",
    "input_dim = x_train.shape[1]\n",
    "model = SingleNeuron(input_dim=input_dim).to(device)\n",
    "# define optimizer, and give it the networks weights\n",
    "learning_rate = 0.1\n",
    "# every class that inherits from nn.Module() has the .parameters() method to access the weights\n",
    "optimizer = torch.optim.SGD(model.parameters(), lr=learning_rate)\n",
    "# other hyper-parameters\n",
    "num_epochs = 5000\n",
    "# define loss function - BCE for binary classification\n",
    "criterion = nn.BCELoss()\n",
    "# preprocess the data\n",
    "scaler = StandardScaler()\n",
    "x_train_prep = scaler.fit_transform(x_train)\n",
    "x_test_prep = scaler.transform(x_test)"
   ]
  },
  {
   "cell_type": "code",
   "execution_count": null,
   "metadata": {
    "id": "Kl2wqmFRTD1n",
    "outputId": "8f6adf9a-a2c0-4167-9886-1c801a1a9d45",
    "slideshow": {
     "slide_type": "subslide"
    }
   },
   "outputs": [
    {
     "name": "stdout",
     "output_type": "stream",
     "text": [
      "epoch: 0 loss: 0.6858659386634827\n",
      "epoch: 1000 loss: 0.26053810119628906\n",
      "epoch: 2000 loss: 0.25988084077835083\n",
      "epoch: 3000 loss: 0.25985535979270935\n",
      "epoch: 4000 loss: 0.25985416769981384\n"
     ]
    }
   ],
   "source": [
    "# training loop for the model\n",
    "for epoch in range(num_epochs):\n",
    "    # get data\n",
    "    features = torch.from_numpy(x_train_prep).float().to(device)\n",
    "    labels = torch.from_numpy(y_train).float().to(device)\n",
    "    # forward pass\n",
    "    logits = model(features)\n",
    "    # loss\n",
    "    loss = criterion(logits.view(-1), labels)\n",
    "    # backward pass\n",
    "    optimizer.zero_grad()  # clean the gradients from previous iteration\n",
    "    loss.backward()  # autograd backward to calculate gradients\n",
    "    optimizer.step()  # apply update to the weights\n",
    "    if epoch % 1000 == 0:\n",
    "        print(f'epoch: {epoch} loss: {loss}')"
   ]
  },
  {
   "cell_type": "code",
   "execution_count": null,
   "metadata": {
    "id": "D0e0JTKUTD1n",
    "outputId": "8f9d18df-933a-41c2-ca9c-0cc66879fa26",
    "slideshow": {
     "slide_type": "subslide"
    }
   },
   "outputs": [
    {
     "name": "stdout",
     "output_type": "stream",
     "text": [
      "Logistic Regression accuracy: 90.351 %\n"
     ]
    }
   ],
   "source": [
    "# predict and check accuracy\n",
    "test_features = torch.from_numpy(x_test_prep).float().to(device)\n",
    "y_pred_logits = model(test_features).data.cpu().view(-1).numpy()\n",
    "y_pred = (y_pred_logits > 0.5)\n",
    "accuracy = np.sum(y_pred == y_test) / len(y_test)\n",
    "print(\"Logistic Regression accuracy: {:.3f} %\".format(accuracy * 100))"
   ]
  },
  {
   "cell_type": "markdown",
   "metadata": {
    "id": "QtWfWb3QTD1o",
    "slideshow": {
     "slide_type": "subslide"
    }
   },
   "source": [
    "Same as Scikit-Learn!"
   ]
  },
  {
   "cell_type": "code",
   "execution_count": 11,
   "metadata": {
    "colab": {
     "base_uri": "https://localhost:8080/",
     "height": 322
    },
    "id": "PuI11UkBTS_x",
    "outputId": "3c842acb-dac1-4075-82a8-cb3ceee51809",
    "slideshow": {
     "slide_type": "subslide"
    }
   },
   "outputs": [
    {
     "data": {
      "image/svg+xml": [
       "<?xml version=\"1.0\" encoding=\"UTF-8\" standalone=\"no\"?>\n",
       "<!DOCTYPE svg PUBLIC \"-//W3C//DTD SVG 1.1//EN\"\n",
       " \"http://www.w3.org/Graphics/SVG/1.1/DTD/svg11.dtd\">\n",
       "<!-- Generated by graphviz version 2.40.1 (20161225.0304)\n",
       " -->\n",
       "<!-- Title: %3 Pages: 1 -->\n",
       "<svg width=\"154pt\" height=\"226pt\"\n",
       " viewBox=\"0.00 0.00 153.50 226.00\" xmlns=\"http://www.w3.org/2000/svg\" xmlns:xlink=\"http://www.w3.org/1999/xlink\">\n",
       "<g id=\"graph0\" class=\"graph\" transform=\"scale(1 1) rotate(0) translate(4 222)\">\n",
       "<title>%3</title>\n",
       "<polygon fill=\"#ffffff\" stroke=\"transparent\" points=\"-4,4 -4,-222 149.5,-222 149.5,4 -4,4\"/>\n",
       "<!-- 140116645813776 -->\n",
       "<g id=\"node1\" class=\"node\">\n",
       "<title>140116645813776</title>\n",
       "<polygon fill=\"#caff70\" stroke=\"#000000\" points=\"120.5,-21 15.5,-21 15.5,0 120.5,0 120.5,-21\"/>\n",
       "<text text-anchor=\"middle\" x=\"68\" y=\"-7.4\" font-family=\"Times,serif\" font-size=\"12.00\" fill=\"#000000\">SigmoidBackward</text>\n",
       "</g>\n",
       "<!-- 140116645813888 -->\n",
       "<g id=\"node2\" class=\"node\">\n",
       "<title>140116645813888</title>\n",
       "<polygon fill=\"#d3d3d3\" stroke=\"#000000\" points=\"120,-78 16,-78 16,-57 120,-57 120,-78\"/>\n",
       "<text text-anchor=\"middle\" x=\"68\" y=\"-64.4\" font-family=\"Times,serif\" font-size=\"12.00\" fill=\"#000000\">AddmmBackward</text>\n",
       "</g>\n",
       "<!-- 140116645813888&#45;&gt;140116645813776 -->\n",
       "<g id=\"edge1\" class=\"edge\">\n",
       "<title>140116645813888&#45;&gt;140116645813776</title>\n",
       "<path fill=\"none\" stroke=\"#000000\" d=\"M68,-56.7787C68,-49.6134 68,-39.9517 68,-31.3097\"/>\n",
       "<polygon fill=\"#000000\" stroke=\"#000000\" points=\"71.5001,-31.1732 68,-21.1732 64.5001,-31.1732 71.5001,-31.1732\"/>\n",
       "</g>\n",
       "<!-- 140116644302976 -->\n",
       "<g id=\"node3\" class=\"node\">\n",
       "<title>140116644302976</title>\n",
       "<polygon fill=\"#add8e6\" stroke=\"#000000\" points=\"54,-148 0,-148 0,-114 54,-114 54,-148\"/>\n",
       "<text text-anchor=\"middle\" x=\"27\" y=\"-134.4\" font-family=\"Times,serif\" font-size=\"12.00\" fill=\"#000000\">fc.bias</text>\n",
       "<text text-anchor=\"middle\" x=\"27\" y=\"-121.4\" font-family=\"Times,serif\" font-size=\"12.00\" fill=\"#000000\"> (1)</text>\n",
       "</g>\n",
       "<!-- 140116644302976&#45;&gt;140116645813888 -->\n",
       "<g id=\"edge2\" class=\"edge\">\n",
       "<title>140116644302976&#45;&gt;140116645813888</title>\n",
       "<path fill=\"none\" stroke=\"#000000\" d=\"M37.9872,-113.9832C43.3524,-105.6737 49.8346,-95.6342 55.3998,-87.015\"/>\n",
       "<polygon fill=\"#000000\" stroke=\"#000000\" points=\"58.4985,-88.6682 60.9824,-78.3687 52.6177,-84.8712 58.4985,-88.6682\"/>\n",
       "</g>\n",
       "<!-- 140116644303032 -->\n",
       "<g id=\"node4\" class=\"node\">\n",
       "<title>140116644303032</title>\n",
       "<polygon fill=\"#d3d3d3\" stroke=\"#000000\" points=\"145.5,-141.5 72.5,-141.5 72.5,-120.5 145.5,-120.5 145.5,-141.5\"/>\n",
       "<text text-anchor=\"middle\" x=\"109\" y=\"-127.9\" font-family=\"Times,serif\" font-size=\"12.00\" fill=\"#000000\">TBackward</text>\n",
       "</g>\n",
       "<!-- 140116644303032&#45;&gt;140116645813888 -->\n",
       "<g id=\"edge3\" class=\"edge\">\n",
       "<title>140116644303032&#45;&gt;140116645813888</title>\n",
       "<path fill=\"none\" stroke=\"#000000\" d=\"M102.0449,-120.2281C96.1191,-111.0503 87.4601,-97.6394 80.3579,-86.6396\"/>\n",
       "<polygon fill=\"#000000\" stroke=\"#000000\" points=\"83.2171,-84.6153 74.8524,-78.1128 77.3363,-88.4124 83.2171,-84.6153\"/>\n",
       "</g>\n",
       "<!-- 140116644303144 -->\n",
       "<g id=\"node5\" class=\"node\">\n",
       "<title>140116644303144</title>\n",
       "<polygon fill=\"#add8e6\" stroke=\"#000000\" points=\"139.5,-218 78.5,-218 78.5,-184 139.5,-184 139.5,-218\"/>\n",
       "<text text-anchor=\"middle\" x=\"109\" y=\"-204.4\" font-family=\"Times,serif\" font-size=\"12.00\" fill=\"#000000\">fc.weight</text>\n",
       "<text text-anchor=\"middle\" x=\"109\" y=\"-191.4\" font-family=\"Times,serif\" font-size=\"12.00\" fill=\"#000000\"> (1, 2)</text>\n",
       "</g>\n",
       "<!-- 140116644303144&#45;&gt;140116644303032 -->\n",
       "<g id=\"edge4\" class=\"edge\">\n",
       "<title>140116644303144&#45;&gt;140116644303032</title>\n",
       "<path fill=\"none\" stroke=\"#000000\" d=\"M109,-183.6966C109,-174.0634 109,-162.003 109,-151.8518\"/>\n",
       "<polygon fill=\"#000000\" stroke=\"#000000\" points=\"112.5001,-151.7912 109,-141.7913 105.5001,-151.7913 112.5001,-151.7912\"/>\n",
       "</g>\n",
       "</g>\n",
       "</svg>\n"
      ],
      "text/plain": [
       "<graphviz.dot.Digraph at 0x7f6f72e69908>"
      ]
     },
     "execution_count": 11,
     "metadata": {
      "tags": []
     },
     "output_type": "execute_result"
    }
   ],
   "source": [
    "# visualize computational graph\n",
    "x = torch.randn(1, input_dim).to(device)\n",
    "torchviz.make_dot(model(x), params=dict(model.named_parameters()))"
   ]
  },
  {
   "cell_type": "markdown",
   "metadata": {
    "id": "cmZUQFrxTD1o",
    "slideshow": {
     "slide_type": "slide"
    }
   },
   "source": [
    "### <img src=\"https://img.icons8.com/cotton/64/000000/network.png\" style=\"height:50px;display:inline\"> Multi-Class (Multinomial) Logistic Regression - Softmax Regression\n",
    "---\n",
    "* The Logistic Regression model can be generalized to support multiple classes.\n",
    "* The idea: when given an instance $x$, the Softmax Regression model first computes a score $s_k(x)$ for each class $k$, then estimates a probability of each class by applying the *softmax function* (normalized exponential) to the scores.\n",
    "* The **Softmax score for class $k$**: $$ s_k(x) = \\big( \\theta^{(k)} \\big)^T \\cdot x $$ \n",
    "    * Each class has its own dedicated parameter vector $\\theta^{(k)}$, which is usually stored in a row of the parameter matrix $\\Theta$."
   ]
  },
  {
   "cell_type": "markdown",
   "metadata": {
    "id": "5Q4BBYwCTD1o",
    "slideshow": {
     "slide_type": "subslide"
    }
   },
   "source": [
    "* **The Softmax Function**: $$\\hat{p}_k = p(y=k|x,\\theta) = \\sigma(s(x))_k = \\frac{e^{s_k(x)}}{\\sum_{j=1}^K e^{s_j(x)}} $$\n",
    "    * $K$ is the number of classes.\n",
    "    * $s(x)$ is a *vector* containing the scores of each class for the instance $x$\n",
    "    * $\\sigma(s(x))_k$ is the estimated probability that the instance $x$ belongs to class $k$ given the scores of each class for that instance.\n",
    "* **The Softmax Regression classifier prediction**: $$\\hat{y} = \\underset{k}{\\mathrm{argmax}} \\sigma(s(x))_k = \\underset{k}{\\mathrm{argmax}} s_k(x) = \\underset{k}{\\mathrm{argmax}} \\big( (\\theta^{(k)})^Tx \\big) $$"
   ]
  },
  {
   "cell_type": "markdown",
   "metadata": {
    "id": "OGBIchXMTD1o",
    "slideshow": {
     "slide_type": "subslide"
    }
   },
   "source": [
    "* **Cross-Entropy cost function**: $$ J(\\Theta) = -\\frac{1}{m} \\sum_{i=1}^m \\sum_{k=1}^K y_k^{(i)} \\log(\\hat{p}_k^{(i)}) $$\n",
    "    * $y_k^{(i)}$ is equal to 1 if the target class for the $i^{th}$ instance is $k$, otherwise, it is 0.\n",
    "    * When $K=2$ it is the BCE from the previous section.\n",
    "* **Cross-Entropy gradient vector for class $k$**: $$ \\nabla_{\\theta^{(k)}}J(\\Theta) = \\frac{1}{m}\\sum_{i=1}^m (\\hat{p}_k^{(i)} - y_k^{(i)})x^{(i)} $$\n",
    "    * Use Gradient Descent or its variants to solve\n",
    "* In Scikit-Learn: `softmax_reg = LogisticRegression(multi_class=\"multinomial\", solver=\"lbfgs\", C=10)`\n",
    "    * $C$ is the number of classes to use."
   ]
  },
  {
   "cell_type": "markdown",
   "metadata": {
    "id": "yM_pQ-16TD1o",
    "slideshow": {
     "slide_type": "slide"
    }
   },
   "source": [
    "### <img src=\"https://img.icons8.com/nolan/64/nui2.png\" style=\"height:50px;display:inline\"> Activation Functions\n",
    "---\n",
    "\n",
    "The key change made to the Perceptron that brought upon the era of deep learning is the addition of **Activation function** to the output of each neuron. These allow the learning of non-linear functions. We will use three popular activation functions:\n",
    "1. **Logistic function (sigmoid)**: $\\sigma(z) = \\frac{1}{1 + e^{-z}}$. The output is in $[0,1]$ which can be used for binary clssification or as a probability (why?)\n",
    "2. **Hyperbolic tangent function**: $tanh(z) = 2\\sigma(2z) - 1$. The output is in $[-1,1]$ which tends to make each layer's output more or less normalized at the beginning of the training (which may speed up convergence).\n",
    "3. **ReLU (Rectified Linear Unit) function**: $ReLU(z) = max(0,z)$. Continuous but not differentiable at $z=0$. However, it is the most common activation function as it is fast to compute and does not bound the output (which helps with some issues during Gradient Descent)."
   ]
  },
  {
   "cell_type": "markdown",
   "metadata": {
    "id": "gZes_GHxTD1o",
    "slideshow": {
     "slide_type": "subslide"
    }
   },
   "source": [
    "**The Activation functions derivatives (for the backpropagation)**:\n",
    "1. $\\frac{d\\sigma(z)}{dz} = \\sigma(z)(1-\\sigma(z))$\n",
    "2. $\\frac{d tanh(z)}{dz} = 1 - tanh^2(z)$\n",
    "3. We define the derivative at 0 to be zero: $\\frac{d ReLU(z)}{dz} = 1$ if $x>0$ else $0$"
   ]
  },
  {
   "cell_type": "code",
   "execution_count": null,
   "metadata": {
    "id": "0aWjDI-STD1p",
    "slideshow": {
     "slide_type": "subslide"
    }
   },
   "outputs": [],
   "source": [
    "# activation functions\n",
    "def sigmoid(z, deriv=False):\n",
    "    output = 1 / (1 + np.exp(-1.0 * z))\n",
    "    if deriv:\n",
    "        return output * (1 - output)\n",
    "    return output\n",
    "\n",
    "def tanh(z, deriv=False):\n",
    "    output = np.tanh(z)\n",
    "    if deriv:\n",
    "        return 1 - np.square(output)\n",
    "    return output\n",
    "\n",
    "def relu(z, deriv=False):\n",
    "    output = z if z > 0 else 0\n",
    "    if deriv:\n",
    "        return 1 if z > 0 else 0\n",
    "    return output"
   ]
  },
  {
   "cell_type": "code",
   "execution_count": null,
   "metadata": {
    "id": "wSAflgsZTD1p",
    "slideshow": {
     "slide_type": "skip"
    }
   },
   "outputs": [],
   "source": [
    "def plot_activations():\n",
    "    x = np.linspace(-5, 5, 1000)\n",
    "    y_sig = sigmoid(x)\n",
    "    y_tanh = tanh(x)\n",
    "    y_relu = list(map(lambda z: relu(z), x))\n",
    "    fig = plt.figure(figsize=(8, 5))\n",
    "    ax1 = fig.add_subplot(2,1,1)\n",
    "    ax1.plot(x, y_sig, label='sigmoid')\n",
    "    ax1.plot(x, y_tanh, label='tanh')\n",
    "    ax1.plot(x, y_relu, label='relu')\n",
    "    ax1.grid()\n",
    "    ax1.legend()\n",
    "    ax1.set_xlabel('x')\n",
    "    ax1.set_ylabel('y')\n",
    "    ax1.set_ylim([-2, 2])\n",
    "    ax1.set_title('Activation Functions')\n",
    "\n",
    "    y_sig_derv = sigmoid(x, deriv=True)\n",
    "    y_tanh_derv = tanh(x, deriv=True)\n",
    "    y_relu_derv = list(map(lambda z: relu(z, deriv=True), x))\n",
    "    ax2 = fig.add_subplot(2,1,2)\n",
    "    ax2.plot(x, y_sig_derv, label='sigmoid')\n",
    "    ax2.plot(x, y_tanh_derv, label='tanh')\n",
    "    ax2.plot(x, y_relu_derv, label='relu')\n",
    "    ax2.grid()\n",
    "    ax2.legend()\n",
    "    ax2.set_xlabel('x')\n",
    "    ax2.set_ylabel('y')\n",
    "    # ax2.set_ylim([-2, 2])\n",
    "    ax2.set_title('Activation Functions Derivatives')\n",
    "    plt.tight_layout()"
   ]
  },
  {
   "cell_type": "code",
   "execution_count": null,
   "metadata": {
    "id": "JIzEgdyCTD1p",
    "outputId": "851d88d7-e1fc-4ef1-8e97-7e55aa278424",
    "scrolled": false,
    "slideshow": {
     "slide_type": "subslide"
    }
   },
   "outputs": [
    {
     "data": {
      "image/png": "[encoded data removed]",
      "text/plain": [
       "<Figure size 576x360 with 2 Axes>"
      ]
     },
     "metadata": {
      "needs_background": "light",
      "tags": []
     },
     "output_type": "display_data"
    }
   ],
   "source": [
    "# plot\n",
    "plot_activations()"
   ]
  },
  {
   "cell_type": "markdown",
   "metadata": {
    "id": "J68kd8QcTD1q",
    "slideshow": {
     "slide_type": "subslide"
    }
   },
   "source": [
    "### <img src=\"https://img.icons8.com/bubbles/50/000000/video-playlist.png\" style=\"height:50px;display:inline\"> Recommended Videos\n",
    "---\n",
    "#### <img src=\"https://img.icons8.com/cute-clipart/64/000000/warning-shield.png\" style=\"height:30px;display:inline\"> Warning!\n",
    "* These videos do not replace the lectures and tutorials.\n",
    "* Please use these to get a better understanding of the material, and not as an alternative to the written material.\n",
    "\n",
    "#### Video By Subject\n",
    "\n",
    "* Pereceptron - <a href=\"https://www.youtube.com/watch?v=4Gac5I64LM4\">Pereceptron</a>\n",
    "    * <a href=\"https://www.youtube.com/watch?v=5g0TPrxKK6o\">Perceptron Training</a>\n",
    "* Logistic Regression - <a href=\"https://www.youtube.com/watch?v=HZ4cvaztQEs\">Lecture 3 | Machine Learning (Stanford)</a>\n",
    "    * <a href=\"https://www.youtube.com/watch?v=yIYKR4sgzI8\">StatQuest: Logistic Regression</a>\n",
    "* Softmax Regression - <a href=\"https://www.youtube.com/watch?v=LLux1SW--oM\">Softmax Regression (C2W3L08)</a>\n",
    "* Activation Functions - <a href=\"https://www.youtube.com/watch?v=Xvg00QnyaIY\">Activation Functions (C1W3L06)</a>\n",
    "    * <a href=\"https://www.youtube.com/watch?v=NkOv_k7r6no\">Why Non-linear Activation Functions (C1W3L07)</a>"
   ]
  },
  {
   "cell_type": "markdown",
   "metadata": {
    "id": "ASKEitEBTD1q",
    "slideshow": {
     "slide_type": "skip"
    }
   },
   "source": [
    "## <img src=\"https://img.icons8.com/dusk/64/000000/prize.png\" style=\"height:50px;display:inline\"> Credits\n",
    "---\n",
    "* Icons made by <a href=\"https://www.flaticon.com/authors/becris\" title=\"Becris\">Becris</a> from <a href=\"https://www.flaticon.com/\" title=\"Flaticon\">www.flaticon.com</a>\n",
    "* Icons from <a href=\"https://icons8.com/\">Icons8.com</a> - https://icons8.com\n",
    "* Datasets from <a href=\"https://www.kaggle.com/\">Kaggle</a> - https://www.kaggle.com/\n",
    "* Examples and code snippets were taken from <a href=\"http://shop.oreilly.com/product/0636920052289.do\">\"Hands-On Machine Learning with Scikit-Learn and TensorFlow\"</a>"
   ]
  }
 ],
 "metadata": {
  "colab": {
   "name": "ee046xxx_tutorial_04_single_neuron.ipynb",
   "provenance": [],
   "toc_visible": true
  },
  "kernelspec": {
   "display_name": "Python 3",
   "language": "python",
   "name": "python3"
  },
  "language_info": {
   "codemirror_mode": {
    "name": "ipython",
    "version": 3
   },
   "file_extension": ".py",
   "mimetype": "text/x-python",
   "name": "python",
   "nbconvert_exporter": "python",
   "pygments_lexer": "ipython3",
   "version": "3.6.9"
  }
 },
 "nbformat": 4,
 "nbformat_minor": 1
}
